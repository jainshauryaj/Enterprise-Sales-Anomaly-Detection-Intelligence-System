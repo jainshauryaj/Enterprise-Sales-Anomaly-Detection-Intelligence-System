{
 "cells": [
  {
   "cell_type": "code",
   "execution_count": 1,
   "id": "cefc2f7e-eea6-4700-91d2-cf39313dfea3",
   "metadata": {},
   "outputs": [],
   "source": [
    "import pencilbox as pb\n",
    "import pandas as pd\n",
    "import numpy as np\n",
    "import time\n",
    "from datetime import date, datetime, timedelta\n",
    "from statsmodels.tsa.seasonal import seasonal_decompose\n",
    "from tqdm import tqdm\n",
    "import matplotlib.pyplot as plt\n",
    "import seaborn as sns\n",
    "from pandas.plotting import register_matplotlib_converters\n",
    "\n",
    "CON_REDSHIFT = pb.get_connection(\"[Warehouse] Redshift\")"
   ]
  },
  {
   "cell_type": "code",
   "execution_count": 2,
   "id": "6be97c2c-5a96-4fe6-93d0-ddbba065ba1d",
   "metadata": {},
   "outputs": [],
   "source": [
    "register_matplotlib_converters()\n",
    "sns.set_style(\"darkgrid\")\n",
    "\n",
    "plt.rc(\"figure\", figsize=(16, 12))\n",
    "plt.rc(\"font\", size=12)"
   ]
  },
  {
   "cell_type": "code",
   "execution_count": 3,
   "id": "088a057c-7759-4544-97f8-e3dedf0fde25",
   "metadata": {},
   "outputs": [],
   "source": [
    "def read_sql_query(sql, con):\n",
    "    start = time.time()\n",
    "    df = pd.read_sql_query(sql, con)\n",
    "    end = time.time()\n",
    "    if (end - start) > 60:\n",
    "        print(\"Time: \", (end - start) / 60, \"min\")\n",
    "    else:\n",
    "        print(\"Time: \", end - start, \"s\")\n",
    "    return df"
   ]
  },
  {
   "cell_type": "code",
   "execution_count": null,
   "id": "114eaea8-322b-4f97-9bdd-1b957e5bba45",
   "metadata": {},
   "outputs": [],
   "source": [
    "order_query = f\"\"\"\n",
    "select \n",
    "    \n",
    "    cart_checkout_ts_ist::date as Date, \n",
    "    \n",
    "    case when extract(day from cart_checkout_ts_ist::date) <= 7 \n",
    "    then 1\n",
    "    when extract(day from cart_checkout_ts_ist::date) <= 14 \n",
    "    then 2\n",
    "    when extract(day from cart_checkout_ts_ist::date) <= 21 \n",
    "    then 3\n",
    "    when extract(day from cart_checkout_ts_ist::date) <= 28 \n",
    "    then 4\n",
    "    else 5 \n",
    "    end as wom,\n",
    "    \n",
    "    extract(day from cart_checkout_ts_ist::date) as dom,\n",
    "    \n",
    "    date_part(dow,cart_checkout_ts_ist::date) as dow,\n",
    "    \n",
    "    p.l2_category, \n",
    "    \n",
    "    sum(procured_quantity) as qty\n",
    "    \n",
    "from dwh.fact_sales_order_item_details fsoid \n",
    "join dwh.dim_product p on fsoid.dim_product_key = p.product_key \n",
    "\n",
    "where order_current_status = 'DELIVERED'\n",
    "and cart_checkout_ts_ist between date('2023-03-01')-180 and date('2023-03-01')\n",
    "and is_internal_order = false \n",
    "and l2_category != 'Freebie'\n",
    "--and city_name = 'HR-NCR'\n",
    "--and l2_category = 'Atta'\n",
    "\n",
    "group by 1,2,3,4,5\"\"\"\n",
    "\n",
    "order_data = read_sql_query(order_query, CON_REDSHIFT)"
   ]
  },
  {
   "cell_type": "code",
   "execution_count": null,
   "id": "2fbd204f-a0a1-4c08-b9d2-587a22ca09b5",
   "metadata": {},
   "outputs": [],
   "source": [
    "order_query = f\"\"\"\n",
    "with\n",
    "sub_order_details as\n",
    "    (select \n",
    "        date(install_ts + interval '5.5 Hours') as order_date,\n",
    "        id as sub_order_id,\n",
    "        order_id\n",
    "        \n",
    "            from lake_oms_bifrost.oms_suborder\n",
    "            \n",
    "                where (install_ts between (current_date - 30 || ' 00:00:00')::timestamp - interval '5.5 Hours'\n",
    "                    and (current_date || ' 23:59:59')::timestamp - interval '5.5 Hours')\n",
    "    ),\n",
    "\n",
    "invoice_details as\n",
    "    (select \n",
    "        order_date,\n",
    "        pi.id as invoice_id,\n",
    "        grofers_order_id as sub_order_id,\n",
    "        cart_id,\n",
    "        order_id,\n",
    "        outlet_id,\n",
    "        external_id,\n",
    "        invoice_type_id\n",
    "        \n",
    "            from lake_pos.pos_invoice pi\n",
    "            \n",
    "                join\n",
    "                    sub_order_details od on od.sub_order_id = pi.grofers_order_id\n",
    "                \n",
    "                join\n",
    "                    lake_oms_bifrost.oms_order oo on oo.id = od.order_id and oo.current_status = 'DELIVERED'\n",
    "                    and oo.install_ts >= (current_date - 30) and oo.type not ilike '%%internal%%'\n",
    "                    \n",
    "                    where pi.created_at >= (current_date - 30)\n",
    "                        and invoice_type_id in (1,7,2,8)\n",
    "    ),\n",
    "    \n",
    "invoice_item_details as\n",
    "    (select \n",
    "        order_date,\n",
    "        invoice_type_id,\n",
    "        cart_id,\n",
    "        order_id,\n",
    "        id.outlet_id,\n",
    "        rpc.brand_id,\n",
    "        item_id,\n",
    "        rpc.name,\n",
    "        rpc.variant_id,\n",
    "        upc_id,\n",
    "        quantity,\n",
    "        selling_price,\n",
    "        variant_mrp\n",
    "        \n",
    "            from lake_pos.pos_invoice_product_details pd\n",
    "            \n",
    "                join\n",
    "                    invoice_details id on id.invoice_id = pd.invoice_id\n",
    "                \n",
    "                join\n",
    "                    lake_rpc.product_product rpc on rpc.variant_id = pd.variant_id\n",
    "                    \n",
    "                    where pd.pos_timestamp >= (current_date - 30)\n",
    "    ),\n",
    "\n",
    "sales as\n",
    "    (select \n",
    "        a.order_date as date_,\n",
    "        a.order_id,\n",
    "        a.outlet_id,\n",
    "        a.item_id,\n",
    "        coalesce(return_quantity,0.0) as return_quantity,\n",
    "        coalesce(return_selling_price,0.0) as return_selling_price,\n",
    "        coalesce(return_variant_mrp,0.0) as return_variant_mrp,\n",
    "        \n",
    "        sum(quantity) as sales_quantity,\n",
    "        sum(quantity * selling_price) as sales_selling_price,\n",
    "        sum(quantity * variant_mrp) as sales_variant_mrp\n",
    "        \n",
    "            from invoice_item_details a\n",
    "            \n",
    "                left join\n",
    "                    (select order_id, item_id,\n",
    "                        sum(quantity) as return_quantity,\n",
    "                        sum(quantity * selling_price) as return_selling_price,\n",
    "                        sum(quantity * variant_mrp) as return_variant_mrp\n",
    "                            from invoice_item_details\n",
    "                                where invoice_type_id in (2,8)\n",
    "                                    group by 1,2\n",
    "                    ) b on b.order_id = a.order_id and b.item_id = a.item_id\n",
    "                    \n",
    "                    where invoice_type_id in (1,7)\n",
    "                    \n",
    "                        group by 1,2,3,4,5,6,7\n",
    "    ),\n",
    "\n",
    "final_sales as\n",
    "    (select \n",
    "        date_,\n",
    "        cl.name as city_name,\n",
    "        s.outlet_id,\n",
    "        s.item_id, \n",
    "        cd.name as item_name,\n",
    "        l2 as category,\n",
    "        sum(sales_quantity - return_quantity) as sales_quantity,\n",
    "        sum(sales_selling_price - return_selling_price) as sales_value,\n",
    "        sum(sales_variant_mrp - return_variant_mrp) as sales_mrp\n",
    "        \n",
    "            from sales s\n",
    "            \n",
    "                join\n",
    "                    lake_rpc.item_category_details cd on cd.item_id = s.item_id\n",
    "                \n",
    "                join\n",
    "                    lake_retail.console_outlet rco on rco.id = s.outlet_id and rco.business_type_id in (7)\n",
    "                join\n",
    "                    lake_retail.console_location cl on cl.id = rco.tax_location_id\n",
    "                    \n",
    "                    group by 1,2,3,4,5,6\n",
    "    )\n",
    "    \n",
    "        select * from final_sales\n",
    "\"\"\"\n",
    "\n",
    "order_data = read_sql_query(order_query, CON_REDSHIFT)"
   ]
  },
  {
   "cell_type": "code",
   "execution_count": null,
   "id": "762280ec-27e6-4a7f-b359-56fd00a3ac6c",
   "metadata": {},
   "outputs": [],
   "source": [
    "# order_data.to_pickle('seasonality.pkl')"
   ]
  },
  {
   "cell_type": "code",
   "execution_count": null,
   "id": "298abd9a-31b8-465b-8457-71297c30c6b8",
   "metadata": {},
   "outputs": [],
   "source": [
    "# order_data = pd.read_pickle('seasonality.pkl')"
   ]
  },
  {
   "cell_type": "code",
   "execution_count": null,
   "id": "43a41f5b-547a-4a56-af24-f8e0f21b9b79",
   "metadata": {},
   "outputs": [],
   "source": [
    "order_data.head(10)"
   ]
  },
  {
   "cell_type": "code",
   "execution_count": null,
   "id": "ff141919-be8c-4d72-bc61-1724db527592",
   "metadata": {},
   "outputs": [],
   "source": [
    "l2_list = order_data['l2_category'].unique()"
   ]
  },
  {
   "cell_type": "code",
   "execution_count": null,
   "id": "b07cc5fa-6ed0-414b-a657-605432556637",
   "metadata": {},
   "outputs": [],
   "source": [
    "len(l2_list)"
   ]
  },
  {
   "cell_type": "code",
   "execution_count": null,
   "id": "4d3ffc6f-ddf7-449b-8689-c83060269d33",
   "metadata": {},
   "outputs": [],
   "source": []
  },
  {
   "cell_type": "code",
   "execution_count": null,
   "id": "97a0590f-69d8-4318-b9b3-a6025d892416",
   "metadata": {},
   "outputs": [],
   "source": [
    "weekly_seasonality_df = pd.DataFrame()\n",
    "monthly_seasonality_df = pd.DataFrame()\n",
    "\n",
    "for i in tqdm(l2_list): \n",
    "    data_orig = order_data.loc[order_data['l2_category']==i]\n",
    "    data_orig = data_orig.sort_values(by=['date'])\n",
    "    data_orig = data_orig.reset_index()\n",
    "    \n",
    "    if len(data_orig)>=60:\n",
    "\n",
    "        weekly_components = seasonal_decompose(data_orig['qty'], period=7, model='additive')\n",
    "        monthly_components = seasonal_decompose(data_orig['qty'], period=30, model='additive')\n",
    "\n",
    "        # adjusted = (data_orig['qty'].values/weekly_components.seasonal)\n",
    "        # /monthly_components.seasonal\n",
    "        data_orig['weekly_seasonal']=weekly_components.seasonal\n",
    "        data_orig['monthly_seasonal']=monthly_components.seasonal\n",
    "\n",
    "        # data_orig['seasonal']=monthly_components.seasonal\n",
    "        monthly_seasonality_df = monthly_seasonality_df.append(data_orig.groupby(['l2_category', 'dom'])['monthly_seasonal'].mean().reset_index())\n",
    "        weekly_seasonality_df = weekly_seasonality_df.append(data_orig.groupby(['l2_category', 'dow'])['weekly_seasonal'].mean().reset_index())\n",
    "\n",
    "        \n",
    "monthly_seasonality_df = monthly_seasonality_df[['l2_category','dom','monthly_seasonal']].reset_index()\n",
    "weekly_seasonality_df = weekly_seasonality_df[['l2_category','dow','weekly_seasonal']].reset_index()"
   ]
  },
  {
   "cell_type": "code",
   "execution_count": null,
   "id": "d62571c7-645c-48e3-be36-831aabbc8de5",
   "metadata": {},
   "outputs": [],
   "source": [
    "monthly_seasonality_df"
   ]
  },
  {
   "cell_type": "code",
   "execution_count": null,
   "id": "4813840a-e00b-4049-8786-8cf4382de4ac",
   "metadata": {},
   "outputs": [],
   "source": [
    "seasonal_decomp = seasonal_decompose(order_data['qty'], period=7, model='additive')\n",
    "seasonal_decomp.plot()"
   ]
  },
  {
   "cell_type": "code",
   "execution_count": null,
   "id": "4c15d3c6-09ba-4b74-a35c-0d0adb2e4e32",
   "metadata": {},
   "outputs": [],
   "source": [
    "product_query = f\"\"\"\n",
    "select \n",
    "    \n",
    "    cart_checkout_ts_ist::date as Date, \n",
    "    \n",
    "    case when extract(day from cart_checkout_ts_ist::date) <= 7 \n",
    "    then 1\n",
    "    when extract(day from cart_checkout_ts_ist::date) <= 14 \n",
    "    then 2\n",
    "    when extract(day from cart_checkout_ts_ist::date) <= 21 \n",
    "    then 3\n",
    "    when extract(day from cart_checkout_ts_ist::date) <= 28 \n",
    "    then 4\n",
    "    else 5 \n",
    "    end as wom,\n",
    "    \n",
    "    extract(day from cart_checkout_ts_ist::date) as dom,\n",
    "    \n",
    "    date_part(dow,cart_checkout_ts_ist::date) as dow,\n",
    "    \n",
    "    p.l2_category, \n",
    "    \n",
    "    p.product_id,\n",
    "    \n",
    "    sum(procured_quantity) as qty\n",
    "    \n",
    "from dwh.fact_sales_order_item_details fsoid \n",
    "join dwh.dim_product p on fsoid.dim_product_key = p.product_key \n",
    "\n",
    "where order_current_status = 'DELIVERED'\n",
    "and cart_checkout_ts_ist between date('2023-03-01')-180 and date('2023-03-01')\n",
    "and is_internal_order = false \n",
    "and l2_category != 'Freebie'\n",
    "--and city_name = 'HR-NCR'\n",
    "--and l2_category = 'Atta'\n",
    "\n",
    "group by 1,2,3,4,5,6\"\"\"\n",
    "\n",
    "product_data = read_sql_query(product_query, CON_REDSHIFT)"
   ]
  },
  {
   "cell_type": "code",
   "execution_count": null,
   "id": "60b4b623-c084-4ac7-b6f2-670f3b8680a1",
   "metadata": {},
   "outputs": [],
   "source": [
    "!pip install duckdb\n",
    "import duckdb\n"
   ]
  },
  {
   "cell_type": "code",
   "execution_count": null,
   "id": "7b6973d7-f60a-42fa-8dc6-875b1e5f6310",
   "metadata": {},
   "outputs": [],
   "source": [
    "main_query = \"\"\"\n",
    "\n",
    "select a.date, a.wom, a.dom, a.dow, a.l2_category, a.product_id, a.qty, a.qty*1.00/(coalesce(b.monthly_seasonal,1)*coalesce(c.weekly_seasonal,1)) as adjusted\n",
    "\n",
    "from product_data a \n",
    "\n",
    "left join monthly_seasonality_df b on a.dom = b.dom and a.l2_category = b.l2_category\n",
    "\n",
    "left join weekly_seasonality_df c on a.dow = c.dow and a.l2_category = c.l2_category\n",
    "\n",
    "\"\"\"\n"
   ]
  },
  {
   "cell_type": "code",
   "execution_count": null,
   "id": "a0ffbdbf-4281-4180-832d-7d284889e283",
   "metadata": {},
   "outputs": [],
   "source": [
    "final_data = duckdb.query(main_query).to_df()"
   ]
  },
  {
   "cell_type": "code",
   "execution_count": null,
   "id": "21bbdfa8-aff2-411e-8c58-9fc661c806a6",
   "metadata": {},
   "outputs": [],
   "source": [
    "final_data"
   ]
  },
  {
   "cell_type": "code",
   "execution_count": null,
   "id": "ca970437-8ea9-4864-9fee-cc1a7aca3589",
   "metadata": {},
   "outputs": [],
   "source": [
    "product_list = final_data['product_id'].unique()"
   ]
  },
  {
   "cell_type": "code",
   "execution_count": null,
   "id": "4162dcd5-d9be-4810-8d65-cb0ee171787d",
   "metadata": {},
   "outputs": [],
   "source": [
    "final_df = pd.DataFrame()\n",
    "\n",
    "for i in tqdm(product_list): \n",
    "    \n",
    "    data_orig = final_data[final_data['product_id']==i]\n",
    "\n",
    "    data_orig['rolling_median']=data_orig['adjusted'].shift(1).rolling(21).median()\n",
    "    data_orig['rolling_75']=data_orig['adjusted'].shift(1).rolling(21).quantile(0.75)\n",
    "    data_orig['rolling_25']=data_orig['adjusted'].shift(1).rolling(21).quantile(0.25)\n",
    "    data_orig['IQR'] = data_orig['rolling_75'] - data_orig['rolling_25']\n",
    "\n",
    "    factor = 1.5\n",
    "\n",
    "    # data_orig['zscore'] = (data_orig['adjusted']-data_orig['rolling_median'])/(data_orig['rolling_75']-data_orig['rolling_25'])\n",
    "\n",
    "    # data_orig['spike'] = np.where(data_orig['zscore']>=3, 1,0)\n",
    "\n",
    "\n",
    "    data_orig['spike'] = np.where((data_orig['adjusted']>(factor*data_orig['IQR'] + data_orig['rolling_75'])) | (data_orig['adjusted']<(data_orig['rolling_25']-factor*data_orig['IQR'])),1,0)\n",
    "\n",
    "    # data_orig['zscore'] = (data_orig['adjusted']/data_orig['rolling_mean'])\n",
    "    # data_orig['spike'] = np.where(abs(data_orig['zscore']) >= 0.85, np.where(abs(data_orig['zscore']) <= 1.15, 0, 1),1) \n",
    "\n",
    "    final_df = final_df.append(data_orig)"
   ]
  },
  {
   "cell_type": "code",
   "execution_count": null,
   "id": "1a62af12-315d-4248-b0b5-42b526a55479",
   "metadata": {},
   "outputs": [],
   "source": [
    "# x = seasonality_df['dom']\n",
    "# y = seasonality_df['seasonal']\n",
    "\n",
    "# fig, ax = plt.subplots()\n",
    "# ax.plot_date(x, y, linestyle='--')"
   ]
  },
  {
   "cell_type": "code",
   "execution_count": null,
   "id": "334c5e89-dc5f-4897-b118-4b1c8e38b05a",
   "metadata": {},
   "outputs": [],
   "source": [
    "# monthly_components.plot()"
   ]
  },
  {
   "cell_type": "code",
   "execution_count": null,
   "id": "1ed970f6-4b4f-4a90-bba1-a5e05441c08f",
   "metadata": {},
   "outputs": [],
   "source": [
    "# seasonality_df[seasonality_df['l2_category'].str.contains('Oil')]['l2_category'].unique()"
   ]
  },
  {
   "cell_type": "code",
   "execution_count": null,
   "id": "d4f7ce13-ba98-444a-8371-84ba1561aaae",
   "metadata": {},
   "outputs": [],
   "source": [
    "# seasonality_df[seasonality_df['l2_category']=='Sunflower Oil']"
   ]
  },
  {
   "cell_type": "code",
   "execution_count": null,
   "id": "a69bbd61-2423-497d-be15-686fbb324a5c",
   "metadata": {},
   "outputs": [],
   "source": [
    "# seasonality_df[seasonality_df['l2_category']=='Oil & Ghee']"
   ]
  },
  {
   "cell_type": "code",
   "execution_count": null,
   "id": "d2b75fac-6b7c-4837-80c6-d638bbea9356",
   "metadata": {},
   "outputs": [],
   "source": [
    "# seasonality_df[seasonality_df['l2_category']=='Oil & Ghee']"
   ]
  },
  {
   "cell_type": "code",
   "execution_count": null,
   "id": "df1c745c-4272-41a6-99f9-784b72ba79f1",
   "metadata": {},
   "outputs": [],
   "source": [
    "# !pip install duckdb\n",
    "# import duckdb\n",
    "\n",
    "# main_query = \"\"\"select a.date, \n",
    "#                         a.wom, \n",
    "#                         a.dow\tl2_category\tqty from df\"\"\"\n",
    "# final_data = duckdb.query(main_query).to_df()"
   ]
  },
  {
   "cell_type": "code",
   "execution_count": null,
   "id": "e9b2d025-bcf8-4197-a76c-1451aa510342",
   "metadata": {},
   "outputs": [],
   "source": [
    "# data_orig['adjusted'] = data_orig['qty']/data_orig['seasonal']"
   ]
  },
  {
   "cell_type": "code",
   "execution_count": null,
   "id": "2fbb83b9-dc72-4d8b-94a0-e261d87af743",
   "metadata": {},
   "outputs": [],
   "source": [
    "# data_orig['rolling_mean']=data_orig['adjusted'].shift(1).rolling(21).ewm(alpha=0.1).median()\n",
    "# data_orig['rolling_std']=data_orig['adjusted'].shift(1).rolling(21).quantile(0.75)-data_orig['adjusted'].shift(1).rolling(21).quantile(0.25)\n",
    "\n",
    "# data_orig['zscore'] = (data_orig['adjusted']-data_orig['rolling_mean'])/data_orig['rolling_std']\n",
    "# data_orig['spike'] = np.where(abs(data_orig['zscore']) >= 1.5, 1, 0) \n",
    "\n",
    "# spike_df = data_orig.loc[data_orig['spike']==1]\n",
    "\n",
    "# spike_df"
   ]
  },
  {
   "cell_type": "code",
   "execution_count": null,
   "id": "cc29be6c-9015-4ef7-ae56-c8ce61d5b4db",
   "metadata": {},
   "outputs": [],
   "source": [
    "data_orig['rolling_median']=data_orig['adjusted'].shift(1).rolling(21).median()\n",
    "data_orig['rolling_75']=data_orig['adjusted'].shift(1).rolling(21).quantile(0.75)\n",
    "data_orig['rolling_25']=data_orig['adjusted'].shift(1).rolling(21).quantile(0.25)\n",
    "data_orig['IQR'] = data_orig['rolling_75'] - data_orig['rolling_25']\n",
    "\n",
    "factor = 1.5\n",
    "\n",
    "# data_orig['zscore'] = (data_orig['adjusted']-data_orig['rolling_median'])/(data_orig['rolling_75']-data_orig['rolling_25'])\n",
    "\n",
    "# data_orig['spike'] = np.where(data_orig['zscore']>=3, 1,0)\n",
    "\n",
    "\n",
    "data_orig['spike'] = np.where((data_orig['adjusted']>(factor*data_orig['IQR'] + data_orig['rolling_75'])) | (data_orig['adjusted']<(data_orig['rolling_25']-factor*data_orig['IQR'])),1,0)\n",
    "                               \n",
    "# data_orig['zscore'] = (data_orig['adjusted']/data_orig['rolling_mean'])\n",
    "# data_orig['spike'] = np.where(abs(data_orig['zscore']) >= 0.85, np.where(abs(data_orig['zscore']) <= 1.15, 0, 1),1) \n",
    "\n",
    "spike_df = data_orig.loc[data_orig['spike']==1]\n",
    "\n",
    "spike_df"
   ]
  },
  {
   "cell_type": "code",
   "execution_count": null,
   "id": "7f2cb73a-6bef-4386-a816-3f42ac389818",
   "metadata": {},
   "outputs": [],
   "source": [
    "# data_orig"
   ]
  },
  {
   "cell_type": "code",
   "execution_count": null,
   "id": "fde7198b-a9cb-4354-9551-dcfe7464d830",
   "metadata": {},
   "outputs": [],
   "source": [
    "# len(spike_df)*100/len(data_orig)"
   ]
  },
  {
   "cell_type": "code",
   "execution_count": null,
   "id": "c612026c-1994-45ad-ad30-88a02f1de168",
   "metadata": {},
   "outputs": [],
   "source": [
    "# import datetime as dt\n",
    "# import matplotlib.pyplot as plt\n",
    "# import matplotlib.dates as mdates\n",
    "\n",
    "# x = data_orig['date']\n",
    "# y = data_orig['adjusted']\n",
    "\n",
    "# fig, ax = plt.subplots()\n",
    "# ax.plot_date(x, y, linestyle='--')\n",
    "\n",
    "# for i in range(len(spike_df)):\n",
    "#     if(spike_df['spike'].iloc[i]>0):\n",
    "#         ax.annotate('Anomaly', (mdates.date2num(spike_df['date'].iloc[i]), spike_df['adjusted'].iloc[i]), xytext=(15, 15), \n",
    "#                 textcoords='offset points', arrowprops=dict(arrowstyle='-|>'), c='r')\n",
    "\n",
    "# fig.autofmt_xdate()\n",
    "# plt.show()"
   ]
  },
  {
   "cell_type": "code",
   "execution_count": null,
   "id": "820acab0-aabd-4648-84bf-581096d89202",
   "metadata": {},
   "outputs": [],
   "source": []
  }
 ],
 "metadata": {
  "kernelspec": {
   "display_name": "Python 3 (ipykernel)",
   "language": "python",
   "name": "python3"
  },
  "language_info": {
   "codemirror_mode": {
    "name": "ipython",
    "version": 3
   },
   "file_extension": ".py",
   "mimetype": "text/x-python",
   "name": "python",
   "nbconvert_exporter": "python",
   "pygments_lexer": "ipython3",
   "version": "3.9.7"
  }
 },
 "nbformat": 4,
 "nbformat_minor": 5
}
