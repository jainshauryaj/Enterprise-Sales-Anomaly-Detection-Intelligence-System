{
 "cells": [
  {
   "cell_type": "markdown",
   "id": "32498e01-2447-427e-87a8-78f522ba8beb",
   "metadata": {
    "tags": []
   },
   "source": [
    "# Import Functions"
   ]
  },
  {
   "cell_type": "code",
   "execution_count": 1,
   "id": "3e401276-97f1-455c-a1af-e097a479c264",
   "metadata": {},
   "outputs": [
    {
     "name": "stdout",
     "output_type": "stream",
     "text": [
      "Requirement already satisfied: pymysql in /opt/conda/lib/python3.9/site-packages (1.0.2)\n",
      "\u001b[33mWARNING: Running pip as the 'root' user can result in broken permissions and conflicting behaviour with the system package manager. It is recommended to use a virtual environment instead: https://pip.pypa.io/warnings/venv\u001b[0m\u001b[33m\n",
      "\u001b[0mRequirement already satisfied: matplotlib in /opt/conda/lib/python3.9/site-packages (3.5.1)\n",
      "Requirement already satisfied: python-dateutil>=2.7 in /opt/conda/lib/python3.9/site-packages (from matplotlib) (2.8.2)\n",
      "Requirement already satisfied: numpy>=1.17 in /opt/conda/lib/python3.9/site-packages (from matplotlib) (1.21.5)\n",
      "Requirement already satisfied: packaging>=20.0 in /opt/conda/lib/python3.9/site-packages (from matplotlib) (21.3)\n",
      "Requirement already satisfied: kiwisolver>=1.0.1 in /opt/conda/lib/python3.9/site-packages (from matplotlib) (1.3.2)\n",
      "Requirement already satisfied: pyparsing>=2.2.1 in /opt/conda/lib/python3.9/site-packages (from matplotlib) (3.0.7)\n",
      "Requirement already satisfied: cycler>=0.10 in /opt/conda/lib/python3.9/site-packages (from matplotlib) (0.11.0)\n",
      "Requirement already satisfied: fonttools>=4.22.0 in /opt/conda/lib/python3.9/site-packages (from matplotlib) (4.29.1)\n",
      "Requirement already satisfied: pillow>=6.2.0 in /opt/conda/lib/python3.9/site-packages (from matplotlib) (9.0.1)\n",
      "Requirement already satisfied: six>=1.5 in /opt/conda/lib/python3.9/site-packages (from python-dateutil>=2.7->matplotlib) (1.16.0)\n",
      "\u001b[33mWARNING: Running pip as the 'root' user can result in broken permissions and conflicting behaviour with the system package manager. It is recommended to use a virtual environment instead: https://pip.pypa.io/warnings/venv\u001b[0m\u001b[33m\n",
      "\u001b[0mRequirement already satisfied: pandasql in /opt/conda/lib/python3.9/site-packages (0.7.3)\n",
      "Requirement already satisfied: numpy in /opt/conda/lib/python3.9/site-packages (from pandasql) (1.21.5)\n",
      "Requirement already satisfied: sqlalchemy in /opt/conda/lib/python3.9/site-packages (from pandasql) (1.3.23)\n",
      "Requirement already satisfied: pandas in /opt/conda/lib/python3.9/site-packages (from pandasql) (1.3.5)\n",
      "Requirement already satisfied: python-dateutil>=2.7.3 in /opt/conda/lib/python3.9/site-packages (from pandas->pandasql) (2.8.2)\n",
      "Requirement already satisfied: pytz>=2017.3 in /opt/conda/lib/python3.9/site-packages (from pandas->pandasql) (2021.3)\n",
      "Requirement already satisfied: six>=1.5 in /opt/conda/lib/python3.9/site-packages (from python-dateutil>=2.7.3->pandas->pandasql) (1.16.0)\n",
      "\u001b[33mWARNING: Running pip as the 'root' user can result in broken permissions and conflicting behaviour with the system package manager. It is recommended to use a virtual environment instead: https://pip.pypa.io/warnings/venv\u001b[0m\u001b[33m\n",
      "\u001b[0m"
     ]
    }
   ],
   "source": [
    "import pencilbox as pb\n",
    "import pandas as pd\n",
    "import numpy as np\n",
    "import time\n",
    "import os\n",
    "from datetime import date, datetime, timedelta\n",
    "import json\n",
    "import shutil \n",
    "!pip install pymysql\n",
    "import pymysql\n",
    "\n",
    "from sklearn import preprocessing\n",
    "from sklearn.decomposition import PCA\n",
    "from sklearn.cluster import KMeans\n",
    "from sklearn.covariance import EllipticEnvelope\n",
    "#from pyemma import msm\n",
    "from sklearn.ensemble import IsolationForest\n",
    "from sklearn.svm import OneClassSVM\n",
    "\n",
    "import boto3\n",
    "import io\n",
    "\n",
    "!pip install matplotlib\n",
    "import matplotlib.pyplot as plt\n",
    "\n",
    "import seaborn as sns\n",
    "from sklearn.ensemble import IsolationForest\n",
    "\n",
    "\n",
    "import requests\n",
    "from requests.exceptions import HTTPError\n",
    "\n",
    "!pip install pandasql\n",
    "import pandasql as ps\n",
    "\n",
    "from tqdm.notebook import tqdm\n",
    "CON_REDSHIFT = pb.get_connection(\"[Warehouse] Redshift\")\n",
    "CON_TRINO = pb.get_connection(\"[Warehouse] Trino\")"
   ]
  },
  {
   "cell_type": "code",
   "execution_count": 2,
   "id": "c75f213b-9c32-4b34-9039-73b680e76bda",
   "metadata": {
    "tags": []
   },
   "outputs": [],
   "source": [
    "def read_sql_query(sql, con):\n",
    "    max_tries = 3\n",
    "    for attempt in range(max_tries):\n",
    "        print(f\"Read attempt: {attempt}...\")\n",
    "        try:\n",
    "            start = time.time()\n",
    "            df = pd.read_sql_query(sql, con)\n",
    "            end = time.time()\n",
    "            if (end - start) > 60:\n",
    "                print(\"Time: \", (end - start) / 60, \"min\")\n",
    "            else:\n",
    "                print(\"Time: \", end - start, \"s\")\n",
    "            return df\n",
    "            break\n",
    "        except BaseException as e:\n",
    "            print(e)\n",
    "            time.sleep(5)"
   ]
  },
  {
   "cell_type": "code",
   "execution_count": 3,
   "id": "f187e2c3-ab00-46d5-8dcc-10cc4a30e8bf",
   "metadata": {},
   "outputs": [],
   "source": [
    "pd.options.mode.chained_assignment = None  # default='warn'\n",
    "pd.set_option('display.max_columns', 300)\n",
    "import warnings\n",
    "warnings.filterwarnings('ignore')"
   ]
  },
  {
   "cell_type": "code",
   "execution_count": 4,
   "id": "5d204274-d131-48c0-8fad-589847436c55",
   "metadata": {},
   "outputs": [],
   "source": [
    "outliers_fraction = 0.01\n",
    "final_df = pd.DataFrame()"
   ]
  },
  {
   "cell_type": "markdown",
   "id": "5fb5d9e4-d6af-4d73-a058-b33f21dfed29",
   "metadata": {
    "tags": []
   },
   "source": [
    "# Fetch Sales"
   ]
  },
  {
   "cell_type": "code",
   "execution_count": 5,
   "id": "edc138ca-4989-44d0-a579-aa4a96e51ec5",
   "metadata": {},
   "outputs": [
    {
     "name": "stdout",
     "output_type": "stream",
     "text": [
      "Read attempt: 0...\n",
      "Time:  1.390855650107066 min\n"
     ]
    },
    {
     "data": {
      "text/html": [
       "<div>\n",
       "<style scoped>\n",
       "    .dataframe tbody tr th:only-of-type {\n",
       "        vertical-align: middle;\n",
       "    }\n",
       "\n",
       "    .dataframe tbody tr th {\n",
       "        vertical-align: top;\n",
       "    }\n",
       "\n",
       "    .dataframe thead th {\n",
       "        text-align: right;\n",
       "    }\n",
       "</style>\n",
       "<table border=\"1\" class=\"dataframe\">\n",
       "  <thead>\n",
       "    <tr style=\"text-align: right;\">\n",
       "      <th></th>\n",
       "      <th>date_</th>\n",
       "      <th>p_type</th>\n",
       "      <th>item_id</th>\n",
       "      <th>item_name</th>\n",
       "      <th>sales_quantity</th>\n",
       "      <th>sales_value</th>\n",
       "      <th>sales_value_mrp</th>\n",
       "      <th>ipc</th>\n",
       "    </tr>\n",
       "  </thead>\n",
       "  <tbody>\n",
       "    <tr>\n",
       "      <th>0</th>\n",
       "      <td>2023-05-11</td>\n",
       "      <td>Tomato Puree</td>\n",
       "      <td>10000953</td>\n",
       "      <td>Hommade Tomato Puree(Tetra Pak) 200 g - Rs 27</td>\n",
       "      <td>216</td>\n",
       "      <td>5508.0</td>\n",
       "      <td>5832.0</td>\n",
       "      <td>0.368901</td>\n",
       "    </tr>\n",
       "    <tr>\n",
       "      <th>1</th>\n",
       "      <td>2023-05-13</td>\n",
       "      <td>Tomato Puree</td>\n",
       "      <td>10000953</td>\n",
       "      <td>Hommade Tomato Puree(Tetra Pak) 200 g - Rs 27</td>\n",
       "      <td>210</td>\n",
       "      <td>5355.0</td>\n",
       "      <td>5670.0</td>\n",
       "      <td>0.333919</td>\n",
       "    </tr>\n",
       "    <tr>\n",
       "      <th>2</th>\n",
       "      <td>2023-07-08</td>\n",
       "      <td>Tomato Puree</td>\n",
       "      <td>10000953</td>\n",
       "      <td>Hommade Tomato Puree(Tetra Pak) 200 g - Rs 27</td>\n",
       "      <td>6603</td>\n",
       "      <td>166171.0</td>\n",
       "      <td>178201.0</td>\n",
       "      <td>0.309803</td>\n",
       "    </tr>\n",
       "    <tr>\n",
       "      <th>3</th>\n",
       "      <td>2023-04-29</td>\n",
       "      <td>Tomato Puree</td>\n",
       "      <td>10000953</td>\n",
       "      <td>Hommade Tomato Puree(Tetra Pak) 200 g - Rs 27</td>\n",
       "      <td>994</td>\n",
       "      <td>25225.0</td>\n",
       "      <td>26838.0</td>\n",
       "      <td>0.321981</td>\n",
       "    </tr>\n",
       "    <tr>\n",
       "      <th>4</th>\n",
       "      <td>2023-07-21</td>\n",
       "      <td>Tomato Puree</td>\n",
       "      <td>10000953</td>\n",
       "      <td>Hommade Tomato Puree(Tetra Pak) 200 g - Rs 27</td>\n",
       "      <td>457</td>\n",
       "      <td>11882.0</td>\n",
       "      <td>12339.0</td>\n",
       "      <td>0.314086</td>\n",
       "    </tr>\n",
       "  </tbody>\n",
       "</table>\n",
       "</div>"
      ],
      "text/plain": [
       "       date_        p_type   item_id  \\\n",
       "0 2023-05-11  Tomato Puree  10000953   \n",
       "1 2023-05-13  Tomato Puree  10000953   \n",
       "2 2023-07-08  Tomato Puree  10000953   \n",
       "3 2023-04-29  Tomato Puree  10000953   \n",
       "4 2023-07-21  Tomato Puree  10000953   \n",
       "\n",
       "                                       item_name  sales_quantity  sales_value  \\\n",
       "0  Hommade Tomato Puree(Tetra Pak) 200 g - Rs 27             216       5508.0   \n",
       "1  Hommade Tomato Puree(Tetra Pak) 200 g - Rs 27             210       5355.0   \n",
       "2  Hommade Tomato Puree(Tetra Pak) 200 g - Rs 27            6603     166171.0   \n",
       "3  Hommade Tomato Puree(Tetra Pak) 200 g - Rs 27             994      25225.0   \n",
       "4  Hommade Tomato Puree(Tetra Pak) 200 g - Rs 27             457      11882.0   \n",
       "\n",
       "   sales_value_mrp       ipc  \n",
       "0           5832.0  0.368901  \n",
       "1           5670.0  0.333919  \n",
       "2         178201.0  0.309803  \n",
       "3          26838.0  0.321981  \n",
       "4          12339.0  0.314086  "
      ]
     },
     "execution_count": 5,
     "metadata": {},
     "output_type": "execute_result"
    }
   ],
   "source": [
    "order_query = f\"\"\"\n",
    "with\n",
    "item_details as\n",
    "    (select item_id, \n",
    "        (id.name || ' ' || id.variant_description) as item_name\n",
    "            from lake_rpc.item_details id\n",
    "    ),\n",
    "\n",
    "item_mapping as\n",
    "    (select distinct ipr.product_id,\n",
    "        case when ipr.item_id is null then ipom_0.item_id else ipr.item_id end as item_id,\n",
    "        case when ipr.item_id is not null then COALESCE(ipom.multiplier,1) else COALESCE(ipom_0.multiplier,1) end as multiplier\n",
    "            \n",
    "            from lake_rpc.item_product_mapping ipr\n",
    "\n",
    "                left join\n",
    "                    dwh.dim_item_product_offer_mapping ipom on ipom.product_id = ipr.product_id\n",
    "                        and ipr.item_id = ipom.item_id\n",
    "                left join\n",
    "                    dwh.dim_item_product_offer_mapping ipom_0 on ipom_0.product_id = ipr.product_id\n",
    "    ),\n",
    "\n",
    "sales as\n",
    "    (select \n",
    "        (oid.cart_checkout_ts_ist) as order_date,\n",
    "        cl.name as city_name,\n",
    "        rco.facility_id,\n",
    "        pt.name as p_type,\n",
    "        oid.product_id,\n",
    "        im.item_id,\n",
    "        oid.cart_id,\n",
    "        oid.dim_customer_key,\n",
    "        ((unit_selling_price * 1.00)/im.multiplier) as item_selling_price,\n",
    "        ((unit_mrp * 1.00)/im.multiplier) as item_selling_mrp,\n",
    "        im.multiplier,\n",
    "        oid.total_doorstep_return_quantity,\n",
    "        ((oid.procured_quantity - oid.total_doorstep_return_quantity) * im.multiplier) as sales_quantity,\n",
    "        (sales_quantity * item_selling_price) as sales_value,\n",
    "        (sales_quantity * item_selling_mrp) as sales_value_mrp\n",
    "        \n",
    "            from dwh.fact_sales_order_item_details oid\n",
    "            \n",
    "                join item_mapping im on im.product_id = oid.product_id\n",
    "                \n",
    "                join lake_retail.console_outlet rco on rco.id = oid.outlet_id and business_type_id in (7)\n",
    "                join lake_retail.console_location cl on cl.id = rco.tax_location_id\n",
    "                left join \n",
    "        (select item_id, product_id from lake_rpc.item_product_mapping) ipm on ipm.product_id = oid.product_id\n",
    "    left join \n",
    "        (select id, type_id from lake_cms.gr_product) gp on gp.id = ipm.product_id\n",
    "    left join \n",
    "        (select id, name from lake_cms.gr_product_type) pt on pt.id = gp.type_id\n",
    "                \n",
    "                    where (oid.cart_checkout_ts_ist between (current_date - 90 || ' 00:00:00')::timestamp and (current_date || ' 23:59:59')::timestamp)\n",
    "                        and oid.is_internal_order = false\n",
    "                        and (oid.order_type not ilike '%%internal%%' or oid.order_type is null)\n",
    "                        and oid.procured_quantity > 0\n",
    "                        and oid.order_current_status = 'DELIVERED'\n",
    "    ),\n",
    "\n",
    "cart_data AS\n",
    "  (\n",
    "    SELECT \n",
    "        DISTINCT cart_id,\n",
    "        sum(sales_quantity) AS order_quantity\n",
    "    FROM \n",
    "        sales\n",
    "    GROUP BY 1\n",
    "),\n",
    "\n",
    "final_sales as\n",
    "    (select \n",
    "        date(order_date) as date_,\n",
    "        p_type,\n",
    "        s.item_id,\n",
    "        item_name, \n",
    "        sum(sales_quantity)::int as sales_quantity,\n",
    "        sum(sales_value) as sales_value,\n",
    "        sum(sales_value_mrp) as sales_value_mrp,\n",
    "        avg(cast(sales_quantity AS float)/cast(order_quantity AS float)) AS ipc\n",
    "        \n",
    "            from sales s\n",
    "            \n",
    "                join\n",
    "                    item_details id on id.item_id = s.item_id\n",
    "                JOIN\n",
    "        cart_data c ON s.cart_id = c.cart_id\n",
    "                    \n",
    "                    where sales_quantity > 0\n",
    "                    \n",
    "                        group by 1,2,3,4\n",
    "    )\n",
    "    \n",
    "        SELECT fs.*\n",
    "        FROM final_sales fs\n",
    "        WHERE fs.item_id IN (10000953) -- (10000953, 10043867, 10002530, 10000628, 10001013)\n",
    "            \"\"\"\n",
    "\n",
    "order_data = read_sql_query(order_query, CON_REDSHIFT)\n",
    "order_data['date_'] = pd.to_datetime(order_data['date_'])\n",
    "order_data.head()"
   ]
  },
  {
   "cell_type": "code",
   "execution_count": 6,
   "id": "586a83f7-0051-43f2-ac6b-ecab8c65bad0",
   "metadata": {},
   "outputs": [
    {
     "data": {
      "text/plain": [
       "count      91.000000\n",
       "mean     1743.890110\n",
       "std      1913.373887\n",
       "min       112.000000\n",
       "25%       797.500000\n",
       "50%      1026.000000\n",
       "75%      1345.500000\n",
       "max      7733.000000\n",
       "Name: Sales, dtype: float64"
      ]
     },
     "execution_count": 6,
     "metadata": {},
     "output_type": "execute_result"
    }
   ],
   "source": [
    "#order_df = pd.read_csv('sample-orders-data.csv')\n",
    "order_df = order_data.copy()\n",
    "order_df['Sales'] = order_df['sales_quantity']\n",
    "order_df['Sales'].describe()\n",
    "\n",
    "# order_df.head(2)"
   ]
  },
  {
   "cell_type": "code",
   "execution_count": 7,
   "id": "33a22b54-a386-4676-9207-8ee305df67d0",
   "metadata": {},
   "outputs": [
    {
     "data": {
      "text/html": [
       "<div>\n",
       "<style scoped>\n",
       "    .dataframe tbody tr th:only-of-type {\n",
       "        vertical-align: middle;\n",
       "    }\n",
       "\n",
       "    .dataframe tbody tr th {\n",
       "        vertical-align: top;\n",
       "    }\n",
       "\n",
       "    .dataframe thead th {\n",
       "        text-align: right;\n",
       "    }\n",
       "</style>\n",
       "<table border=\"1\" class=\"dataframe\">\n",
       "  <thead>\n",
       "    <tr style=\"text-align: right;\">\n",
       "      <th></th>\n",
       "      <th>date_</th>\n",
       "      <th>p_type</th>\n",
       "      <th>item_id</th>\n",
       "      <th>item_name</th>\n",
       "      <th>sales_quantity</th>\n",
       "      <th>sales_value</th>\n",
       "      <th>sales_value_mrp</th>\n",
       "      <th>ipc</th>\n",
       "      <th>Sales</th>\n",
       "    </tr>\n",
       "  </thead>\n",
       "  <tbody>\n",
       "    <tr>\n",
       "      <th>0</th>\n",
       "      <td>2023-05-11</td>\n",
       "      <td>Tomato Puree</td>\n",
       "      <td>10000953</td>\n",
       "      <td>Hommade Tomato Puree(Tetra Pak) 200 g - Rs 27</td>\n",
       "      <td>216</td>\n",
       "      <td>5508.0</td>\n",
       "      <td>5832.0</td>\n",
       "      <td>0.368901</td>\n",
       "      <td>216</td>\n",
       "    </tr>\n",
       "    <tr>\n",
       "      <th>1</th>\n",
       "      <td>2023-05-13</td>\n",
       "      <td>Tomato Puree</td>\n",
       "      <td>10000953</td>\n",
       "      <td>Hommade Tomato Puree(Tetra Pak) 200 g - Rs 27</td>\n",
       "      <td>210</td>\n",
       "      <td>5355.0</td>\n",
       "      <td>5670.0</td>\n",
       "      <td>0.333919</td>\n",
       "      <td>210</td>\n",
       "    </tr>\n",
       "    <tr>\n",
       "      <th>2</th>\n",
       "      <td>2023-07-08</td>\n",
       "      <td>Tomato Puree</td>\n",
       "      <td>10000953</td>\n",
       "      <td>Hommade Tomato Puree(Tetra Pak) 200 g - Rs 27</td>\n",
       "      <td>6603</td>\n",
       "      <td>166171.0</td>\n",
       "      <td>178201.0</td>\n",
       "      <td>0.309803</td>\n",
       "      <td>6603</td>\n",
       "    </tr>\n",
       "    <tr>\n",
       "      <th>3</th>\n",
       "      <td>2023-04-29</td>\n",
       "      <td>Tomato Puree</td>\n",
       "      <td>10000953</td>\n",
       "      <td>Hommade Tomato Puree(Tetra Pak) 200 g - Rs 27</td>\n",
       "      <td>994</td>\n",
       "      <td>25225.0</td>\n",
       "      <td>26838.0</td>\n",
       "      <td>0.321981</td>\n",
       "      <td>994</td>\n",
       "    </tr>\n",
       "    <tr>\n",
       "      <th>4</th>\n",
       "      <td>2023-07-21</td>\n",
       "      <td>Tomato Puree</td>\n",
       "      <td>10000953</td>\n",
       "      <td>Hommade Tomato Puree(Tetra Pak) 200 g - Rs 27</td>\n",
       "      <td>457</td>\n",
       "      <td>11882.0</td>\n",
       "      <td>12339.0</td>\n",
       "      <td>0.314086</td>\n",
       "      <td>457</td>\n",
       "    </tr>\n",
       "  </tbody>\n",
       "</table>\n",
       "</div>"
      ],
      "text/plain": [
       "       date_        p_type   item_id  \\\n",
       "0 2023-05-11  Tomato Puree  10000953   \n",
       "1 2023-05-13  Tomato Puree  10000953   \n",
       "2 2023-07-08  Tomato Puree  10000953   \n",
       "3 2023-04-29  Tomato Puree  10000953   \n",
       "4 2023-07-21  Tomato Puree  10000953   \n",
       "\n",
       "                                       item_name  sales_quantity  sales_value  \\\n",
       "0  Hommade Tomato Puree(Tetra Pak) 200 g - Rs 27             216       5508.0   \n",
       "1  Hommade Tomato Puree(Tetra Pak) 200 g - Rs 27             210       5355.0   \n",
       "2  Hommade Tomato Puree(Tetra Pak) 200 g - Rs 27            6603     166171.0   \n",
       "3  Hommade Tomato Puree(Tetra Pak) 200 g - Rs 27             994      25225.0   \n",
       "4  Hommade Tomato Puree(Tetra Pak) 200 g - Rs 27             457      11882.0   \n",
       "\n",
       "   sales_value_mrp       ipc  Sales  \n",
       "0           5832.0  0.368901    216  \n",
       "1           5670.0  0.333919    210  \n",
       "2         178201.0  0.309803   6603  \n",
       "3          26838.0  0.321981    994  \n",
       "4          12339.0  0.314086    457  "
      ]
     },
     "execution_count": 7,
     "metadata": {},
     "output_type": "execute_result"
    }
   ],
   "source": [
    "order_df.head()"
   ]
  },
  {
   "cell_type": "code",
   "execution_count": 8,
   "id": "dcb36a78-616d-40fa-a689-e30b092f9da8",
   "metadata": {},
   "outputs": [
    {
     "data": {
      "text/html": [
       "<div>\n",
       "<style scoped>\n",
       "    .dataframe tbody tr th:only-of-type {\n",
       "        vertical-align: middle;\n",
       "    }\n",
       "\n",
       "    .dataframe tbody tr th {\n",
       "        vertical-align: top;\n",
       "    }\n",
       "\n",
       "    .dataframe thead th {\n",
       "        text-align: right;\n",
       "    }\n",
       "</style>\n",
       "<table border=\"1\" class=\"dataframe\">\n",
       "  <thead>\n",
       "    <tr style=\"text-align: right;\">\n",
       "      <th></th>\n",
       "      <th>p_type</th>\n",
       "      <th>item_id</th>\n",
       "      <th>item_name</th>\n",
       "    </tr>\n",
       "  </thead>\n",
       "  <tbody>\n",
       "    <tr>\n",
       "      <th>0</th>\n",
       "      <td>Tomato Puree</td>\n",
       "      <td>10000953</td>\n",
       "      <td>Hommade Tomato Puree(Tetra Pak) 200 g - Rs 27</td>\n",
       "    </tr>\n",
       "  </tbody>\n",
       "</table>\n",
       "</div>"
      ],
      "text/plain": [
       "         p_type   item_id                                      item_name\n",
       "0  Tomato Puree  10000953  Hommade Tomato Puree(Tetra Pak) 200 g - Rs 27"
      ]
     },
     "execution_count": 8,
     "metadata": {},
     "output_type": "execute_result"
    }
   ],
   "source": [
    "item_ptype_mapping = order_data[['p_type','item_id','item_name']].drop_duplicates()\n",
    "item_ptype_mapping.head()"
   ]
  },
  {
   "cell_type": "markdown",
   "id": "ffd0cb01-17e2-4238-aafc-e433f4756754",
   "metadata": {
    "tags": []
   },
   "source": [
    "# EDA"
   ]
  },
  {
   "cell_type": "code",
   "execution_count": 9,
   "id": "1ad7113d-425d-484b-a99e-e8f3e0bf3c28",
   "metadata": {},
   "outputs": [
    {
     "data": {
      "text/plain": [
       "date_              0\n",
       "p_type             0\n",
       "item_id            0\n",
       "item_name          0\n",
       "sales_quantity     0\n",
       "sales_value        0\n",
       "sales_value_mrp    0\n",
       "ipc                0\n",
       "Sales              0\n",
       "dtype: int64"
      ]
     },
     "execution_count": 9,
     "metadata": {},
     "output_type": "execute_result"
    }
   ],
   "source": [
    "order_df.isna().sum()"
   ]
  },
  {
   "cell_type": "code",
   "execution_count": 10,
   "id": "9a3f8154-5bc6-42ac-827c-3d5043175c99",
   "metadata": {},
   "outputs": [],
   "source": [
    "order_df = order_df.dropna()"
   ]
  },
  {
   "cell_type": "code",
   "execution_count": 11,
   "id": "764b34ef-0587-4179-a89b-cd824bbfb929",
   "metadata": {},
   "outputs": [],
   "source": [
    "order_df['date_'] = pd.to_datetime(order_df['date_'])"
   ]
  },
  {
   "cell_type": "code",
   "execution_count": 12,
   "id": "2c657d24-7bb4-4381-b4a2-a521d1e6ac9d",
   "metadata": {},
   "outputs": [
    {
     "data": {
      "text/plain": [
       "Timestamp('2023-04-22 00:00:00')"
      ]
     },
     "execution_count": 12,
     "metadata": {},
     "output_type": "execute_result"
    }
   ],
   "source": [
    "order_df['date_'].min()"
   ]
  },
  {
   "cell_type": "code",
   "execution_count": 13,
   "id": "0d0072b0-7c33-40c8-816c-b80eafd74728",
   "metadata": {},
   "outputs": [
    {
     "data": {
      "text/plain": [
       "Timestamp('2023-07-21 00:00:00')"
      ]
     },
     "execution_count": 13,
     "metadata": {},
     "output_type": "execute_result"
    }
   ],
   "source": [
    "order_df['date_'].max()"
   ]
  },
  {
   "cell_type": "code",
   "execution_count": 14,
   "id": "d4cb0d57-b588-48c6-be61-1c5ef473c7b9",
   "metadata": {},
   "outputs": [],
   "source": [
    "order_df = order_df.sort_values(by='date_').reset_index(drop = True)"
   ]
  },
  {
   "cell_type": "code",
   "execution_count": 15,
   "id": "a1bd7e3b-6d13-4a2c-9538-102bbbbc5441",
   "metadata": {},
   "outputs": [
    {
     "data": {
      "text/html": [
       "<div>\n",
       "<style scoped>\n",
       "    .dataframe tbody tr th:only-of-type {\n",
       "        vertical-align: middle;\n",
       "    }\n",
       "\n",
       "    .dataframe tbody tr th {\n",
       "        vertical-align: top;\n",
       "    }\n",
       "\n",
       "    .dataframe thead th {\n",
       "        text-align: right;\n",
       "    }\n",
       "</style>\n",
       "<table border=\"1\" class=\"dataframe\">\n",
       "  <thead>\n",
       "    <tr style=\"text-align: right;\">\n",
       "      <th></th>\n",
       "      <th>date_</th>\n",
       "      <th>p_type</th>\n",
       "      <th>item_id</th>\n",
       "      <th>item_name</th>\n",
       "      <th>sales_quantity</th>\n",
       "      <th>sales_value</th>\n",
       "      <th>sales_value_mrp</th>\n",
       "      <th>ipc</th>\n",
       "      <th>Sales</th>\n",
       "    </tr>\n",
       "  </thead>\n",
       "  <tbody>\n",
       "    <tr>\n",
       "      <th>0</th>\n",
       "      <td>2023-04-22</td>\n",
       "      <td>Tomato Puree</td>\n",
       "      <td>10000953</td>\n",
       "      <td>Hommade Tomato Puree(Tetra Pak) 200 g - Rs 27</td>\n",
       "      <td>1020</td>\n",
       "      <td>26386.0</td>\n",
       "      <td>27540.0</td>\n",
       "      <td>0.245811</td>\n",
       "      <td>1020</td>\n",
       "    </tr>\n",
       "    <tr>\n",
       "      <th>1</th>\n",
       "      <td>2023-04-23</td>\n",
       "      <td>Tomato Puree</td>\n",
       "      <td>10000953</td>\n",
       "      <td>Hommade Tomato Puree(Tetra Pak) 200 g - Rs 27</td>\n",
       "      <td>1048</td>\n",
       "      <td>27131.0</td>\n",
       "      <td>28294.0</td>\n",
       "      <td>0.238974</td>\n",
       "      <td>1048</td>\n",
       "    </tr>\n",
       "    <tr>\n",
       "      <th>2</th>\n",
       "      <td>2023-04-24</td>\n",
       "      <td>Tomato Puree</td>\n",
       "      <td>10000953</td>\n",
       "      <td>Hommade Tomato Puree(Tetra Pak) 200 g - Rs 27</td>\n",
       "      <td>846</td>\n",
       "      <td>21932.0</td>\n",
       "      <td>22842.0</td>\n",
       "      <td>0.249967</td>\n",
       "      <td>846</td>\n",
       "    </tr>\n",
       "    <tr>\n",
       "      <th>3</th>\n",
       "      <td>2023-04-25</td>\n",
       "      <td>Tomato Puree</td>\n",
       "      <td>10000953</td>\n",
       "      <td>Hommade Tomato Puree(Tetra Pak) 200 g - Rs 27</td>\n",
       "      <td>832</td>\n",
       "      <td>21530.0</td>\n",
       "      <td>22464.0</td>\n",
       "      <td>0.231127</td>\n",
       "      <td>832</td>\n",
       "    </tr>\n",
       "    <tr>\n",
       "      <th>4</th>\n",
       "      <td>2023-04-26</td>\n",
       "      <td>Tomato Puree</td>\n",
       "      <td>10000953</td>\n",
       "      <td>Hommade Tomato Puree(Tetra Pak) 200 g - Rs 27</td>\n",
       "      <td>927</td>\n",
       "      <td>23978.0</td>\n",
       "      <td>25029.0</td>\n",
       "      <td>0.222459</td>\n",
       "      <td>927</td>\n",
       "    </tr>\n",
       "  </tbody>\n",
       "</table>\n",
       "</div>"
      ],
      "text/plain": [
       "       date_        p_type   item_id  \\\n",
       "0 2023-04-22  Tomato Puree  10000953   \n",
       "1 2023-04-23  Tomato Puree  10000953   \n",
       "2 2023-04-24  Tomato Puree  10000953   \n",
       "3 2023-04-25  Tomato Puree  10000953   \n",
       "4 2023-04-26  Tomato Puree  10000953   \n",
       "\n",
       "                                       item_name  sales_quantity  sales_value  \\\n",
       "0  Hommade Tomato Puree(Tetra Pak) 200 g - Rs 27            1020      26386.0   \n",
       "1  Hommade Tomato Puree(Tetra Pak) 200 g - Rs 27            1048      27131.0   \n",
       "2  Hommade Tomato Puree(Tetra Pak) 200 g - Rs 27             846      21932.0   \n",
       "3  Hommade Tomato Puree(Tetra Pak) 200 g - Rs 27             832      21530.0   \n",
       "4  Hommade Tomato Puree(Tetra Pak) 200 g - Rs 27             927      23978.0   \n",
       "\n",
       "   sales_value_mrp       ipc  Sales  \n",
       "0          27540.0  0.245811   1020  \n",
       "1          28294.0  0.238974   1048  \n",
       "2          22842.0  0.249967    846  \n",
       "3          22464.0  0.231127    832  \n",
       "4          25029.0  0.222459    927  "
      ]
     },
     "execution_count": 15,
     "metadata": {},
     "output_type": "execute_result"
    }
   ],
   "source": [
    "order_df.head()"
   ]
  },
  {
   "cell_type": "code",
   "execution_count": 16,
   "id": "ea6e278a-35ab-4579-b68b-97b58a0ab798",
   "metadata": {},
   "outputs": [],
   "source": [
    "x_train = order_df.copy()"
   ]
  },
  {
   "cell_type": "markdown",
   "id": "fdcb692a-fc6a-4373-b6cc-de6a61b2fac3",
   "metadata": {
    "tags": []
   },
   "source": [
    "## Visualisation"
   ]
  },
  {
   "cell_type": "code",
   "execution_count": 17,
   "id": "514cb7c6-f2b8-4fe9-a100-ae319550f731",
   "metadata": {},
   "outputs": [
    {
     "data": {
      "image/png": "[encoded data removed]",
      "text/plain": [
       "<Figure size 1440x720 with 1 Axes>"
      ]
     },
     "metadata": {
      "needs_background": "light"
     },
     "output_type": "display_data"
    }
   ],
   "source": [
    "plt.subplots(figsize=(20,10))\n",
    "plt.scatter(range(x_train.shape[0]), np.sort(x_train['Sales'].values))\n",
    "plt.xlabel('index')\n",
    "plt.ylabel('Sales')\n",
    "plt.title(\"Sales distribution\")\n",
    "sns.despine()"
   ]
  },
  {
   "cell_type": "code",
   "execution_count": 18,
   "id": "ad2192c2-e38a-4d3c-a6bb-9c788c94c7bb",
   "metadata": {},
   "outputs": [
    {
     "data": {
      "image/png": "[encoded data removed]",
      "text/plain": [
       "<Figure size 1440x720 with 1 Axes>"
      ]
     },
     "metadata": {
      "needs_background": "light"
     },
     "output_type": "display_data"
    }
   ],
   "source": [
    "plt.subplots(figsize=(20,10))\n",
    "sns.distplot(x_train['Sales'])\n",
    "plt.title(\"Distribution of Sales\")\n",
    "sns.despine()"
   ]
  },
  {
   "cell_type": "code",
   "execution_count": 19,
   "id": "264d2ec1-f952-4e59-9b4c-4a71b80493dc",
   "metadata": {},
   "outputs": [
    {
     "data": {
      "text/plain": [
       "1.974344613684042"
      ]
     },
     "execution_count": 19,
     "metadata": {},
     "output_type": "execute_result"
    }
   ],
   "source": [
    "x_train['Sales'].skew()"
   ]
  },
  {
   "cell_type": "markdown",
   "id": "b41697d9-e542-41ec-bf59-a8bd320bc2d8",
   "metadata": {},
   "source": [
    "# Feature Engineering"
   ]
  },
  {
   "cell_type": "code",
   "execution_count": 20,
   "id": "b3b754b1-4c9b-43f2-b01b-4fd97945fb32",
   "metadata": {},
   "outputs": [],
   "source": [
    "x_train = order_df.copy()\n",
    "#item_id = 10000490\n",
    "#box_x_train = x_train[x_train['item_id'] == item_id].reset_index().drop(columns = {'index'})\n",
    "box_x_train = x_train.copy()"
   ]
  },
  {
   "cell_type": "code",
   "execution_count": 21,
   "id": "0fc10314-2f72-49b4-81ed-0d72d2181f77",
   "metadata": {},
   "outputs": [],
   "source": [
    "# from sklearn.preprocessing import PowerTransformer\n",
    "\n",
    "# fit = PowerTransformer(\n",
    "#    method = 'box-cox'\n",
    "# )\n",
    "\n",
    "# box_x_train['Sales'] = fit.fit_transform(\n",
    "#    np.array(box_x_train['sales_quantity']).reshape(-1, 1)\n",
    "# )"
   ]
  },
  {
   "cell_type": "code",
   "execution_count": 22,
   "id": "e8310066-a09b-4a74-92cc-ce54cc59f0a8",
   "metadata": {},
   "outputs": [],
   "source": [
    "from scipy import stats\n",
    "box_x_train['Sales'] = stats.boxcox(box_x_train['sales_quantity'])[0]\n",
    "\n",
    "# plt.subplots(figsize=(20,10))\n",
    "# plt.scatter(range(box_x_train.shape[0]), np.sort(box_x_train['Sales'].values))\n",
    "# plt.xlabel('index')\n",
    "# plt.ylabel('Sales')\n",
    "# plt.title(\"Sales distribution\")\n",
    "# sns.despine()"
   ]
  },
  {
   "cell_type": "code",
   "execution_count": 23,
   "id": "02eb578a-5a38-4f15-9d9d-60d8aadb6a48",
   "metadata": {},
   "outputs": [
    {
     "data": {
      "text/html": [
       "<div>\n",
       "<style scoped>\n",
       "    .dataframe tbody tr th:only-of-type {\n",
       "        vertical-align: middle;\n",
       "    }\n",
       "\n",
       "    .dataframe tbody tr th {\n",
       "        vertical-align: top;\n",
       "    }\n",
       "\n",
       "    .dataframe thead th {\n",
       "        text-align: right;\n",
       "    }\n",
       "</style>\n",
       "<table border=\"1\" class=\"dataframe\">\n",
       "  <thead>\n",
       "    <tr style=\"text-align: right;\">\n",
       "      <th></th>\n",
       "      <th>date_</th>\n",
       "      <th>p_type</th>\n",
       "      <th>item_id</th>\n",
       "      <th>item_name</th>\n",
       "      <th>sales_quantity</th>\n",
       "      <th>sales_value</th>\n",
       "      <th>sales_value_mrp</th>\n",
       "      <th>ipc</th>\n",
       "      <th>Sales</th>\n",
       "    </tr>\n",
       "  </thead>\n",
       "  <tbody>\n",
       "    <tr>\n",
       "      <th>0</th>\n",
       "      <td>2023-04-22</td>\n",
       "      <td>Tomato Puree</td>\n",
       "      <td>10000953</td>\n",
       "      <td>Hommade Tomato Puree(Tetra Pak) 200 g - Rs 27</td>\n",
       "      <td>1020</td>\n",
       "      <td>26386.0</td>\n",
       "      <td>27540.0</td>\n",
       "      <td>0.245811</td>\n",
       "      <td>5.685929</td>\n",
       "    </tr>\n",
       "    <tr>\n",
       "      <th>1</th>\n",
       "      <td>2023-04-23</td>\n",
       "      <td>Tomato Puree</td>\n",
       "      <td>10000953</td>\n",
       "      <td>Hommade Tomato Puree(Tetra Pak) 200 g - Rs 27</td>\n",
       "      <td>1048</td>\n",
       "      <td>27131.0</td>\n",
       "      <td>28294.0</td>\n",
       "      <td>0.238974</td>\n",
       "      <td>5.703906</td>\n",
       "    </tr>\n",
       "    <tr>\n",
       "      <th>2</th>\n",
       "      <td>2023-04-24</td>\n",
       "      <td>Tomato Puree</td>\n",
       "      <td>10000953</td>\n",
       "      <td>Hommade Tomato Puree(Tetra Pak) 200 g - Rs 27</td>\n",
       "      <td>846</td>\n",
       "      <td>21932.0</td>\n",
       "      <td>22842.0</td>\n",
       "      <td>0.249967</td>\n",
       "      <td>5.560981</td>\n",
       "    </tr>\n",
       "    <tr>\n",
       "      <th>3</th>\n",
       "      <td>2023-04-25</td>\n",
       "      <td>Tomato Puree</td>\n",
       "      <td>10000953</td>\n",
       "      <td>Hommade Tomato Puree(Tetra Pak) 200 g - Rs 27</td>\n",
       "      <td>832</td>\n",
       "      <td>21530.0</td>\n",
       "      <td>22464.0</td>\n",
       "      <td>0.231127</td>\n",
       "      <td>5.549767</td>\n",
       "    </tr>\n",
       "    <tr>\n",
       "      <th>4</th>\n",
       "      <td>2023-04-26</td>\n",
       "      <td>Tomato Puree</td>\n",
       "      <td>10000953</td>\n",
       "      <td>Hommade Tomato Puree(Tetra Pak) 200 g - Rs 27</td>\n",
       "      <td>927</td>\n",
       "      <td>23978.0</td>\n",
       "      <td>25029.0</td>\n",
       "      <td>0.222459</td>\n",
       "      <td>5.622235</td>\n",
       "    </tr>\n",
       "  </tbody>\n",
       "</table>\n",
       "</div>"
      ],
      "text/plain": [
       "       date_        p_type   item_id  \\\n",
       "0 2023-04-22  Tomato Puree  10000953   \n",
       "1 2023-04-23  Tomato Puree  10000953   \n",
       "2 2023-04-24  Tomato Puree  10000953   \n",
       "3 2023-04-25  Tomato Puree  10000953   \n",
       "4 2023-04-26  Tomato Puree  10000953   \n",
       "\n",
       "                                       item_name  sales_quantity  sales_value  \\\n",
       "0  Hommade Tomato Puree(Tetra Pak) 200 g - Rs 27            1020      26386.0   \n",
       "1  Hommade Tomato Puree(Tetra Pak) 200 g - Rs 27            1048      27131.0   \n",
       "2  Hommade Tomato Puree(Tetra Pak) 200 g - Rs 27             846      21932.0   \n",
       "3  Hommade Tomato Puree(Tetra Pak) 200 g - Rs 27             832      21530.0   \n",
       "4  Hommade Tomato Puree(Tetra Pak) 200 g - Rs 27             927      23978.0   \n",
       "\n",
       "   sales_value_mrp       ipc     Sales  \n",
       "0          27540.0  0.245811  5.685929  \n",
       "1          28294.0  0.238974  5.703906  \n",
       "2          22842.0  0.249967  5.560981  \n",
       "3          22464.0  0.231127  5.549767  \n",
       "4          25029.0  0.222459  5.622235  "
      ]
     },
     "execution_count": 23,
     "metadata": {},
     "output_type": "execute_result"
    }
   ],
   "source": [
    "box_x_train.head()"
   ]
  },
  {
   "cell_type": "code",
   "execution_count": 24,
   "id": "917f0d63-a186-447a-a5c3-8b6dc66e398d",
   "metadata": {},
   "outputs": [
    {
     "data": {
      "image/png": "[encoded data removed]",
      "text/plain": [
       "<Figure size 1440x720 with 1 Axes>"
      ]
     },
     "metadata": {
      "needs_background": "light"
     },
     "output_type": "display_data"
    }
   ],
   "source": [
    "plt.subplots(figsize=(20,10))\n",
    "sns.distplot(box_x_train['Sales'])\n",
    "plt.title(\"Distribution of Sales\")\n",
    "sns.despine()"
   ]
  },
  {
   "cell_type": "code",
   "execution_count": 25,
   "id": "9298143e-7d4c-4a84-afdf-ee21f3d5f005",
   "metadata": {},
   "outputs": [],
   "source": [
    "# plt.subplots(figsize=(20,10))\n",
    "# sns.distplot(box_x_train['Sales_new'])\n",
    "# plt.title(\"Distribution of Sales\")\n",
    "# sns.despine()"
   ]
  },
  {
   "cell_type": "code",
   "execution_count": 26,
   "id": "d0f52daf-5a94-47df-a0ce-91ac659f0969",
   "metadata": {},
   "outputs": [
    {
     "data": {
      "text/plain": [
       "-0.007237835805098243"
      ]
     },
     "execution_count": 26,
     "metadata": {},
     "output_type": "execute_result"
    }
   ],
   "source": [
    "box_x_train['Sales'].skew()"
   ]
  },
  {
   "cell_type": "code",
   "execution_count": 27,
   "id": "73fe2268-9a14-4caa-aeae-9a47058b2cf4",
   "metadata": {},
   "outputs": [
    {
     "data": {
      "image/png": "[encoded data removed]",
      "text/plain": [
       "<Figure size 432x288 with 1 Axes>"
      ]
     },
     "metadata": {
      "needs_background": "light"
     },
     "output_type": "display_data"
    },
    {
     "data": {
      "image/png": "[encoded data removed]",
      "text/plain": [
       "<Figure size 432x288 with 1 Axes>"
      ]
     },
     "metadata": {
      "needs_background": "light"
     },
     "output_type": "display_data"
    }
   ],
   "source": [
    "#median imputation\n",
    "\n",
    "sns.boxplot(box_x_train['Sales'])\n",
    "plt.title(\"Box Plot before median imputation\")\n",
    "plt.show()\n",
    "q1 = box_x_train['Sales'].quantile(0.25)\n",
    "q3 = box_x_train['Sales'].quantile(0.75)\n",
    "iqr = q3-q1\n",
    "Lower_tail = q1 - 1.5 * iqr\n",
    "Upper_tail = q3 + 1.5 * iqr\n",
    "med = np.median(box_x_train['Sales'])\n",
    "for i in box_x_train['Sales']:\n",
    "    if i > Upper_tail or i < Lower_tail:\n",
    "            box_x_train['Sales'] = box_x_train['Sales'].replace(i, med)\n",
    "sns.boxplot(box_x_train['Sales'])\n",
    "plt.title(\"Box Plot after median imputation\")\n",
    "plt.show()"
   ]
  },
  {
   "cell_type": "markdown",
   "id": "6778c338-cbbc-4af1-80c2-2a9c76b84fe1",
   "metadata": {},
   "source": [
    "# Model"
   ]
  },
  {
   "cell_type": "code",
   "execution_count": 28,
   "id": "1a608a7f-fb01-4cd7-ae87-58466c5222f2",
   "metadata": {},
   "outputs": [
    {
     "data": {
      "text/plain": [
       "0     22\n",
       "1     23\n",
       "2     24\n",
       "3     25\n",
       "4     26\n",
       "      ..\n",
       "86    17\n",
       "87    18\n",
       "88    19\n",
       "89    20\n",
       "90    21\n",
       "Name: date_, Length: 91, dtype: int64"
      ]
     },
     "execution_count": 28,
     "metadata": {},
     "output_type": "execute_result"
    }
   ],
   "source": [
    "box_x_train['date_'].dt.day"
   ]
  },
  {
   "cell_type": "code",
   "execution_count": 29,
   "id": "572af1bd-6b72-4790-9842-b429c1b7d5f2",
   "metadata": {},
   "outputs": [],
   "source": [
    "box_x_train['hours'] = box_x_train['date_'].dt.hour\n",
    "box_x_train['week'] = box_x_train['date_'].dt.week\n",
    "box_x_train['day'] = box_x_train['date_'].dt.day\n",
    "box_x_train['month'] = box_x_train['date_'].dt.month\n",
    "box_x_train['DayOfTheWeek'] = box_x_train['date_'].dt.dayofweek\n",
    "box_x_train['WeekDay'] = (box_x_train['DayOfTheWeek'] < 5).astype(int)"
   ]
  },
  {
   "cell_type": "code",
   "execution_count": 30,
   "id": "42781d09-0f71-499b-928a-dc833561820f",
   "metadata": {},
   "outputs": [
    {
     "data": {
      "text/html": [
       "<div>\n",
       "<style scoped>\n",
       "    .dataframe tbody tr th:only-of-type {\n",
       "        vertical-align: middle;\n",
       "    }\n",
       "\n",
       "    .dataframe tbody tr th {\n",
       "        vertical-align: top;\n",
       "    }\n",
       "\n",
       "    .dataframe thead th {\n",
       "        text-align: right;\n",
       "    }\n",
       "</style>\n",
       "<table border=\"1\" class=\"dataframe\">\n",
       "  <thead>\n",
       "    <tr style=\"text-align: right;\">\n",
       "      <th></th>\n",
       "      <th>date_</th>\n",
       "      <th>p_type</th>\n",
       "      <th>item_id</th>\n",
       "      <th>item_name</th>\n",
       "      <th>sales_quantity</th>\n",
       "      <th>sales_value</th>\n",
       "      <th>sales_value_mrp</th>\n",
       "      <th>ipc</th>\n",
       "      <th>Sales</th>\n",
       "      <th>hours</th>\n",
       "      <th>week</th>\n",
       "      <th>day</th>\n",
       "      <th>month</th>\n",
       "      <th>DayOfTheWeek</th>\n",
       "      <th>WeekDay</th>\n",
       "    </tr>\n",
       "  </thead>\n",
       "  <tbody>\n",
       "    <tr>\n",
       "      <th>0</th>\n",
       "      <td>2023-04-22</td>\n",
       "      <td>Tomato Puree</td>\n",
       "      <td>10000953</td>\n",
       "      <td>Hommade Tomato Puree(Tetra Pak) 200 g - Rs 27</td>\n",
       "      <td>1020</td>\n",
       "      <td>26386.0</td>\n",
       "      <td>27540.0</td>\n",
       "      <td>0.245811</td>\n",
       "      <td>5.685929</td>\n",
       "      <td>0</td>\n",
       "      <td>16</td>\n",
       "      <td>22</td>\n",
       "      <td>4</td>\n",
       "      <td>5</td>\n",
       "      <td>0</td>\n",
       "    </tr>\n",
       "    <tr>\n",
       "      <th>1</th>\n",
       "      <td>2023-04-23</td>\n",
       "      <td>Tomato Puree</td>\n",
       "      <td>10000953</td>\n",
       "      <td>Hommade Tomato Puree(Tetra Pak) 200 g - Rs 27</td>\n",
       "      <td>1048</td>\n",
       "      <td>27131.0</td>\n",
       "      <td>28294.0</td>\n",
       "      <td>0.238974</td>\n",
       "      <td>5.703906</td>\n",
       "      <td>0</td>\n",
       "      <td>16</td>\n",
       "      <td>23</td>\n",
       "      <td>4</td>\n",
       "      <td>6</td>\n",
       "      <td>0</td>\n",
       "    </tr>\n",
       "    <tr>\n",
       "      <th>2</th>\n",
       "      <td>2023-04-24</td>\n",
       "      <td>Tomato Puree</td>\n",
       "      <td>10000953</td>\n",
       "      <td>Hommade Tomato Puree(Tetra Pak) 200 g - Rs 27</td>\n",
       "      <td>846</td>\n",
       "      <td>21932.0</td>\n",
       "      <td>22842.0</td>\n",
       "      <td>0.249967</td>\n",
       "      <td>5.560981</td>\n",
       "      <td>0</td>\n",
       "      <td>17</td>\n",
       "      <td>24</td>\n",
       "      <td>4</td>\n",
       "      <td>0</td>\n",
       "      <td>1</td>\n",
       "    </tr>\n",
       "    <tr>\n",
       "      <th>3</th>\n",
       "      <td>2023-04-25</td>\n",
       "      <td>Tomato Puree</td>\n",
       "      <td>10000953</td>\n",
       "      <td>Hommade Tomato Puree(Tetra Pak) 200 g - Rs 27</td>\n",
       "      <td>832</td>\n",
       "      <td>21530.0</td>\n",
       "      <td>22464.0</td>\n",
       "      <td>0.231127</td>\n",
       "      <td>5.549767</td>\n",
       "      <td>0</td>\n",
       "      <td>17</td>\n",
       "      <td>25</td>\n",
       "      <td>4</td>\n",
       "      <td>1</td>\n",
       "      <td>1</td>\n",
       "    </tr>\n",
       "    <tr>\n",
       "      <th>4</th>\n",
       "      <td>2023-04-26</td>\n",
       "      <td>Tomato Puree</td>\n",
       "      <td>10000953</td>\n",
       "      <td>Hommade Tomato Puree(Tetra Pak) 200 g - Rs 27</td>\n",
       "      <td>927</td>\n",
       "      <td>23978.0</td>\n",
       "      <td>25029.0</td>\n",
       "      <td>0.222459</td>\n",
       "      <td>5.622235</td>\n",
       "      <td>0</td>\n",
       "      <td>17</td>\n",
       "      <td>26</td>\n",
       "      <td>4</td>\n",
       "      <td>2</td>\n",
       "      <td>1</td>\n",
       "    </tr>\n",
       "  </tbody>\n",
       "</table>\n",
       "</div>"
      ],
      "text/plain": [
       "       date_        p_type   item_id  \\\n",
       "0 2023-04-22  Tomato Puree  10000953   \n",
       "1 2023-04-23  Tomato Puree  10000953   \n",
       "2 2023-04-24  Tomato Puree  10000953   \n",
       "3 2023-04-25  Tomato Puree  10000953   \n",
       "4 2023-04-26  Tomato Puree  10000953   \n",
       "\n",
       "                                       item_name  sales_quantity  sales_value  \\\n",
       "0  Hommade Tomato Puree(Tetra Pak) 200 g - Rs 27            1020      26386.0   \n",
       "1  Hommade Tomato Puree(Tetra Pak) 200 g - Rs 27            1048      27131.0   \n",
       "2  Hommade Tomato Puree(Tetra Pak) 200 g - Rs 27             846      21932.0   \n",
       "3  Hommade Tomato Puree(Tetra Pak) 200 g - Rs 27             832      21530.0   \n",
       "4  Hommade Tomato Puree(Tetra Pak) 200 g - Rs 27             927      23978.0   \n",
       "\n",
       "   sales_value_mrp       ipc     Sales  hours  week  day  month  DayOfTheWeek  \\\n",
       "0          27540.0  0.245811  5.685929      0    16   22      4             5   \n",
       "1          28294.0  0.238974  5.703906      0    16   23      4             6   \n",
       "2          22842.0  0.249967  5.560981      0    17   24      4             0   \n",
       "3          22464.0  0.231127  5.549767      0    17   25      4             1   \n",
       "4          25029.0  0.222459  5.622235      0    17   26      4             2   \n",
       "\n",
       "   WeekDay  \n",
       "0        0  \n",
       "1        0  \n",
       "2        1  \n",
       "3        1  \n",
       "4        1  "
      ]
     },
     "execution_count": 30,
     "metadata": {},
     "output_type": "execute_result"
    }
   ],
   "source": [
    "box_x_train.head()"
   ]
  },
  {
   "cell_type": "code",
   "execution_count": 31,
   "id": "ddc6c874-dad0-4c0d-abb6-8a4a5d61b9dc",
   "metadata": {},
   "outputs": [],
   "source": [
    "# Take useful feature and standardize them\n",
    "# data = box_x_train[['Sales', 'hours', 'daylight', 'DayOfTheWeek', 'WeekDay']]\n",
    "data = box_x_train[['Sales', 'hours', 'WeekDay']]\n",
    "# min_max_scaler = preprocessing.StandardScaler()\n",
    "# np_scaled = min_max_scaler.fit_transform(data)\n",
    "# data = pd.DataFrame(np_scaled)\n",
    "# n_cluster = range(1, 6)\n",
    "kmeans = KMeans(n_clusters=3, init='k-means++',n_init=20, random_state=42, algorithm='auto', max_iter=100).fit(data)\n",
    "scores = kmeans.score(data)\n",
    "\n",
    "# kmeans = [KMeans(n_clusters=i, init='k-means++',n_init=20, random_state=42, algorithm='auto', max_iter=500).fit(data) for i in n_cluster]\n",
    "# scores = [kmeans[i].score(data) for i in range(len(kmeans))]\n",
    "# fig, ax = plt.subplots(figsize=(20,10))\n",
    "# ax.plot(n_cluster, scores)\n",
    "# plt.show()"
   ]
  },
  {
   "cell_type": "code",
   "execution_count": 32,
   "id": "b157fa33-5f69-4974-940d-7fa0689e6900",
   "metadata": {},
   "outputs": [
    {
     "data": {
      "text/plain": [
       "0    60\n",
       "1    26\n",
       "2     5\n",
       "Name: cluster, dtype: int64"
      ]
     },
     "execution_count": 32,
     "metadata": {},
     "output_type": "execute_result"
    }
   ],
   "source": [
    "# Not clear for me, I choose 15 centroids arbitrarily and add these data to the central dataframe\n",
    "box_x_train['cluster'] = kmeans.predict(data)\n",
    "#box_x_train['cluster'] = kmeans[2].predict(data)\n",
    "box_x_train['cluster'].value_counts()"
   ]
  },
  {
   "cell_type": "code",
   "execution_count": 33,
   "id": "97e2bbca-7b4e-4590-8c32-cae367cffbac",
   "metadata": {},
   "outputs": [],
   "source": [
    "# from sklearn import metrics\n",
    "# metrics.silhouette_score(data, kmeans.labels_,metric='euclidean')\n",
    "# #metrics.silhouette_score(data, kmeans[2].labels_,metric='euclidean')"
   ]
  },
  {
   "cell_type": "code",
   "execution_count": 34,
   "id": "c8150422-7de9-4e0b-83b6-4f16f1b5ee80",
   "metadata": {},
   "outputs": [],
   "source": [
    "pair = {}\n",
    "pair_list = []\n",
    "pair[0] = box_x_train[box_x_train['cluster'] == 0]['Sales'].mean()\n",
    "pair_list.append(box_x_train[box_x_train['cluster'] == 0]['Sales'].mean())\n",
    "pair[1] = box_x_train[box_x_train['cluster'] == 1]['Sales'].mean()\n",
    "pair_list.append(box_x_train[box_x_train['cluster'] == 1]['Sales'].mean())\n",
    "pair[2] = box_x_train[box_x_train['cluster'] == 2]['Sales'].mean()\n",
    "pair_list.append(box_x_train[box_x_train['cluster'] == 2]['Sales'].mean())"
   ]
  },
  {
   "cell_type": "code",
   "execution_count": 35,
   "id": "bbf874ab-132e-4c91-ae35-4212efd1de39",
   "metadata": {},
   "outputs": [
    {
     "data": {
      "text/plain": [
       "(0, 2, 1)"
      ]
     },
     "execution_count": 35,
     "metadata": {},
     "output_type": "execute_result"
    }
   ],
   "source": [
    "minimum = min(pair.values())\n",
    "pair_list.remove(minimum)\n",
    "minimum = [key for key, value in pair.items() if value == minimum][0]\n",
    "maximum = max(pair.values())\n",
    "pair_list.remove(maximum)\n",
    "maximum = [key for key, value in pair.items() if value == maximum][0]\n",
    "no_outleir_key = pair_list[0]\n",
    "no_outleir_key = [key for key, value in pair.items() if value == no_outleir_key][0]\n",
    "\n",
    "minimum, maximum, no_outleir_key"
   ]
  },
  {
   "cell_type": "code",
   "execution_count": 36,
   "id": "cd3fe4aa-80ce-48e3-bcc8-d4a9a4791cbc",
   "metadata": {},
   "outputs": [
    {
     "data": {
      "image/png": "[encoded data removed]",
      "text/plain": [
       "<Figure size 1440x720 with 1 Axes>"
      ]
     },
     "metadata": {
      "needs_background": "light"
     },
     "output_type": "display_data"
    }
   ],
   "source": [
    "#plot the different clusters with the 2 main features\n",
    "fig, ax = plt.subplots(figsize=(20,10))\n",
    "colors = {0:'red', 1:'blue', 2:'green', 3:'black'}\n",
    "ax.scatter(box_x_train['date_'], box_x_train['Sales'], c=box_x_train[\"cluster\"].apply(lambda x: colors[x]))\n",
    "ax.axhline(y = box_x_train[box_x_train['cluster'] == minimum]['Sales'].mean(), color='orange')\n",
    "ax.axhline(y = box_x_train[box_x_train['cluster'] == no_outleir_key]['Sales'].mean(), color='orange')\n",
    "ax.axhline(y = box_x_train[box_x_train['cluster'] == maximum]['Sales'].mean(), color='orange')\n",
    "plt.show()"
   ]
  },
  {
   "cell_type": "code",
   "execution_count": 37,
   "id": "0c8babd6-134a-4156-91d6-732d78a838d7",
   "metadata": {},
   "outputs": [
    {
     "data": {
      "image/png": "[encoded data removed]",
      "text/plain": [
       "<Figure size 1440x720 with 1 Axes>"
      ]
     },
     "metadata": {
      "needs_background": "light"
     },
     "output_type": "display_data"
    }
   ],
   "source": [
    "min_val = box_x_train[box_x_train['cluster'] == minimum]['sales_quantity'].mean()\n",
    "max_val = box_x_train[box_x_train['cluster'] == maximum]['sales_quantity'].mean()\n",
    "fval = box_x_train[box_x_train['cluster'] == no_outleir_key]['sales_quantity'].mean()\n",
    "min_fval, max_fval = fval, fval\n",
    "\n",
    "fig, ax = plt.subplots(figsize=(20,10))\n",
    "colors = {0:'red', 1:'blue', 2:'green', 3:'black'}\n",
    "ax.scatter(box_x_train['date_'], box_x_train['sales_quantity'], c=box_x_train[\"cluster\"].apply(lambda x: colors[x]))\n",
    "ax.axhline(y = fval, color='r')\n",
    "plt.show()"
   ]
  },
  {
   "cell_type": "code",
   "execution_count": 38,
   "id": "a5d5e8fc-6ba9-41cd-9dc0-853d29786ea8",
   "metadata": {},
   "outputs": [
    {
     "data": {
      "text/plain": [
       "(1610.6166666666666, 2683.2)"
      ]
     },
     "execution_count": 38,
     "metadata": {},
     "output_type": "execute_result"
    }
   ],
   "source": [
    "min_val, max_val"
   ]
  },
  {
   "cell_type": "code",
   "execution_count": 39,
   "id": "8a93707c-1a49-47fe-bdd4-740ed4ccceb2",
   "metadata": {},
   "outputs": [
    {
     "name": "stdout",
     "output_type": "stream",
     "text": [
      "1610.6166666666666 2683.2\n"
     ]
    },
    {
     "data": {
      "image/png": "[encoded data removed]",
      "text/plain": [
       "<Figure size 1440x720 with 1 Axes>"
      ]
     },
     "metadata": {
      "needs_background": "light"
     },
     "output_type": "display_data"
    }
   ],
   "source": [
    "# min_fval = (min_val + min_fval)/2\n",
    "# max_fval = (max_val + max_fval)/2\n",
    "# print(min_fval, max_fval)\n",
    "min_fval = min_val\n",
    "max_fval = max_val\n",
    "print(min_fval, max_fval)\n",
    "fig, ax = plt.subplots(figsize=(20,10))\n",
    "colors = {0:'red', 1:'blue', 2:'green', 3:'black'}\n",
    "ax.scatter(box_x_train['date_'], box_x_train['sales_quantity'], c=box_x_train[\"cluster\"].apply(lambda x: colors[x]))\n",
    "ax.axhline(y = box_x_train[box_x_train['cluster'] == minimum]['sales_quantity'].mean(), color='orange')\n",
    "ax.axhline(y = min_fval, color='r')\n",
    "ax.axhline(y = max_fval, color='r')\n",
    "ax.axhline(y = box_x_train[box_x_train['cluster'] == maximum]['sales_quantity'].mean(), color='orange')\n",
    "plt.show()"
   ]
  },
  {
   "cell_type": "code",
   "execution_count": 40,
   "id": "09573daf-8950-4427-acb8-6a1e3f02ba6f",
   "metadata": {},
   "outputs": [
    {
     "data": {
      "text/html": [
       "<div>\n",
       "<style scoped>\n",
       "    .dataframe tbody tr th:only-of-type {\n",
       "        vertical-align: middle;\n",
       "    }\n",
       "\n",
       "    .dataframe tbody tr th {\n",
       "        vertical-align: top;\n",
       "    }\n",
       "\n",
       "    .dataframe thead th {\n",
       "        text-align: right;\n",
       "    }\n",
       "</style>\n",
       "<table border=\"1\" class=\"dataframe\">\n",
       "  <thead>\n",
       "    <tr style=\"text-align: right;\">\n",
       "      <th></th>\n",
       "      <th>date_</th>\n",
       "      <th>p_type</th>\n",
       "      <th>item_id</th>\n",
       "      <th>item_name</th>\n",
       "      <th>sales_quantity</th>\n",
       "      <th>sales_value</th>\n",
       "      <th>sales_value_mrp</th>\n",
       "      <th>ipc</th>\n",
       "      <th>Sales</th>\n",
       "      <th>hours</th>\n",
       "      <th>week</th>\n",
       "      <th>day</th>\n",
       "      <th>month</th>\n",
       "      <th>DayOfTheWeek</th>\n",
       "      <th>WeekDay</th>\n",
       "      <th>cluster</th>\n",
       "    </tr>\n",
       "  </thead>\n",
       "  <tbody>\n",
       "    <tr>\n",
       "      <th>0</th>\n",
       "      <td>2023-04-22</td>\n",
       "      <td>Tomato Puree</td>\n",
       "      <td>10000953</td>\n",
       "      <td>Hommade Tomato Puree(Tetra Pak) 200 g - Rs 27</td>\n",
       "      <td>1020</td>\n",
       "      <td>26386.0</td>\n",
       "      <td>27540.0</td>\n",
       "      <td>0.245811</td>\n",
       "      <td>5.685929</td>\n",
       "      <td>0</td>\n",
       "      <td>16</td>\n",
       "      <td>22</td>\n",
       "      <td>4</td>\n",
       "      <td>5</td>\n",
       "      <td>0</td>\n",
       "      <td>1</td>\n",
       "    </tr>\n",
       "    <tr>\n",
       "      <th>1</th>\n",
       "      <td>2023-04-23</td>\n",
       "      <td>Tomato Puree</td>\n",
       "      <td>10000953</td>\n",
       "      <td>Hommade Tomato Puree(Tetra Pak) 200 g - Rs 27</td>\n",
       "      <td>1048</td>\n",
       "      <td>27131.0</td>\n",
       "      <td>28294.0</td>\n",
       "      <td>0.238974</td>\n",
       "      <td>5.703906</td>\n",
       "      <td>0</td>\n",
       "      <td>16</td>\n",
       "      <td>23</td>\n",
       "      <td>4</td>\n",
       "      <td>6</td>\n",
       "      <td>0</td>\n",
       "      <td>1</td>\n",
       "    </tr>\n",
       "    <tr>\n",
       "      <th>2</th>\n",
       "      <td>2023-04-24</td>\n",
       "      <td>Tomato Puree</td>\n",
       "      <td>10000953</td>\n",
       "      <td>Hommade Tomato Puree(Tetra Pak) 200 g - Rs 27</td>\n",
       "      <td>846</td>\n",
       "      <td>21932.0</td>\n",
       "      <td>22842.0</td>\n",
       "      <td>0.249967</td>\n",
       "      <td>5.560981</td>\n",
       "      <td>0</td>\n",
       "      <td>17</td>\n",
       "      <td>24</td>\n",
       "      <td>4</td>\n",
       "      <td>0</td>\n",
       "      <td>1</td>\n",
       "      <td>0</td>\n",
       "    </tr>\n",
       "    <tr>\n",
       "      <th>3</th>\n",
       "      <td>2023-04-25</td>\n",
       "      <td>Tomato Puree</td>\n",
       "      <td>10000953</td>\n",
       "      <td>Hommade Tomato Puree(Tetra Pak) 200 g - Rs 27</td>\n",
       "      <td>832</td>\n",
       "      <td>21530.0</td>\n",
       "      <td>22464.0</td>\n",
       "      <td>0.231127</td>\n",
       "      <td>5.549767</td>\n",
       "      <td>0</td>\n",
       "      <td>17</td>\n",
       "      <td>25</td>\n",
       "      <td>4</td>\n",
       "      <td>1</td>\n",
       "      <td>1</td>\n",
       "      <td>0</td>\n",
       "    </tr>\n",
       "    <tr>\n",
       "      <th>4</th>\n",
       "      <td>2023-04-26</td>\n",
       "      <td>Tomato Puree</td>\n",
       "      <td>10000953</td>\n",
       "      <td>Hommade Tomato Puree(Tetra Pak) 200 g - Rs 27</td>\n",
       "      <td>927</td>\n",
       "      <td>23978.0</td>\n",
       "      <td>25029.0</td>\n",
       "      <td>0.222459</td>\n",
       "      <td>5.622235</td>\n",
       "      <td>0</td>\n",
       "      <td>17</td>\n",
       "      <td>26</td>\n",
       "      <td>4</td>\n",
       "      <td>2</td>\n",
       "      <td>1</td>\n",
       "      <td>0</td>\n",
       "    </tr>\n",
       "  </tbody>\n",
       "</table>\n",
       "</div>"
      ],
      "text/plain": [
       "       date_        p_type   item_id  \\\n",
       "0 2023-04-22  Tomato Puree  10000953   \n",
       "1 2023-04-23  Tomato Puree  10000953   \n",
       "2 2023-04-24  Tomato Puree  10000953   \n",
       "3 2023-04-25  Tomato Puree  10000953   \n",
       "4 2023-04-26  Tomato Puree  10000953   \n",
       "\n",
       "                                       item_name  sales_quantity  sales_value  \\\n",
       "0  Hommade Tomato Puree(Tetra Pak) 200 g - Rs 27            1020      26386.0   \n",
       "1  Hommade Tomato Puree(Tetra Pak) 200 g - Rs 27            1048      27131.0   \n",
       "2  Hommade Tomato Puree(Tetra Pak) 200 g - Rs 27             846      21932.0   \n",
       "3  Hommade Tomato Puree(Tetra Pak) 200 g - Rs 27             832      21530.0   \n",
       "4  Hommade Tomato Puree(Tetra Pak) 200 g - Rs 27             927      23978.0   \n",
       "\n",
       "   sales_value_mrp       ipc     Sales  hours  week  day  month  DayOfTheWeek  \\\n",
       "0          27540.0  0.245811  5.685929      0    16   22      4             5   \n",
       "1          28294.0  0.238974  5.703906      0    16   23      4             6   \n",
       "2          22842.0  0.249967  5.560981      0    17   24      4             0   \n",
       "3          22464.0  0.231127  5.549767      0    17   25      4             1   \n",
       "4          25029.0  0.222459  5.622235      0    17   26      4             2   \n",
       "\n",
       "   WeekDay  cluster  \n",
       "0        0        1  \n",
       "1        0        1  \n",
       "2        1        0  \n",
       "3        1        0  \n",
       "4        1        0  "
      ]
     },
     "execution_count": 40,
     "metadata": {},
     "output_type": "execute_result"
    }
   ],
   "source": [
    "box_x_train.head()"
   ]
  },
  {
   "cell_type": "code",
   "execution_count": 41,
   "id": "d3b4136b-bef2-46a7-8748-f4844f906caa",
   "metadata": {},
   "outputs": [],
   "source": [
    "box_x_train['india_outlier_flag'] = np.where(box_x_train['cluster'].isin([minimum, maximum]), 1, 0)"
   ]
  },
  {
   "cell_type": "code",
   "execution_count": 42,
   "id": "955bd3fe-b733-41fb-a174-b1d863fdd96a",
   "metadata": {},
   "outputs": [
    {
     "data": {
      "text/html": [
       "<div>\n",
       "<style scoped>\n",
       "    .dataframe tbody tr th:only-of-type {\n",
       "        vertical-align: middle;\n",
       "    }\n",
       "\n",
       "    .dataframe tbody tr th {\n",
       "        vertical-align: top;\n",
       "    }\n",
       "\n",
       "    .dataframe thead th {\n",
       "        text-align: right;\n",
       "    }\n",
       "</style>\n",
       "<table border=\"1\" class=\"dataframe\">\n",
       "  <thead>\n",
       "    <tr style=\"text-align: right;\">\n",
       "      <th></th>\n",
       "      <th>date_</th>\n",
       "      <th>p_type</th>\n",
       "      <th>item_id</th>\n",
       "      <th>item_name</th>\n",
       "      <th>sales_quantity</th>\n",
       "      <th>sales_value</th>\n",
       "      <th>sales_value_mrp</th>\n",
       "      <th>ipc</th>\n",
       "      <th>Sales</th>\n",
       "      <th>hours</th>\n",
       "      <th>week</th>\n",
       "      <th>day</th>\n",
       "      <th>month</th>\n",
       "      <th>DayOfTheWeek</th>\n",
       "      <th>WeekDay</th>\n",
       "      <th>cluster</th>\n",
       "      <th>india_outlier_flag</th>\n",
       "    </tr>\n",
       "  </thead>\n",
       "  <tbody>\n",
       "    <tr>\n",
       "      <th>0</th>\n",
       "      <td>2023-04-22</td>\n",
       "      <td>Tomato Puree</td>\n",
       "      <td>10000953</td>\n",
       "      <td>Hommade Tomato Puree(Tetra Pak) 200 g - Rs 27</td>\n",
       "      <td>1020</td>\n",
       "      <td>26386.0</td>\n",
       "      <td>27540.0</td>\n",
       "      <td>0.245811</td>\n",
       "      <td>5.685929</td>\n",
       "      <td>0</td>\n",
       "      <td>16</td>\n",
       "      <td>22</td>\n",
       "      <td>4</td>\n",
       "      <td>5</td>\n",
       "      <td>0</td>\n",
       "      <td>1</td>\n",
       "      <td>0</td>\n",
       "    </tr>\n",
       "    <tr>\n",
       "      <th>1</th>\n",
       "      <td>2023-04-23</td>\n",
       "      <td>Tomato Puree</td>\n",
       "      <td>10000953</td>\n",
       "      <td>Hommade Tomato Puree(Tetra Pak) 200 g - Rs 27</td>\n",
       "      <td>1048</td>\n",
       "      <td>27131.0</td>\n",
       "      <td>28294.0</td>\n",
       "      <td>0.238974</td>\n",
       "      <td>5.703906</td>\n",
       "      <td>0</td>\n",
       "      <td>16</td>\n",
       "      <td>23</td>\n",
       "      <td>4</td>\n",
       "      <td>6</td>\n",
       "      <td>0</td>\n",
       "      <td>1</td>\n",
       "      <td>0</td>\n",
       "    </tr>\n",
       "    <tr>\n",
       "      <th>2</th>\n",
       "      <td>2023-04-24</td>\n",
       "      <td>Tomato Puree</td>\n",
       "      <td>10000953</td>\n",
       "      <td>Hommade Tomato Puree(Tetra Pak) 200 g - Rs 27</td>\n",
       "      <td>846</td>\n",
       "      <td>21932.0</td>\n",
       "      <td>22842.0</td>\n",
       "      <td>0.249967</td>\n",
       "      <td>5.560981</td>\n",
       "      <td>0</td>\n",
       "      <td>17</td>\n",
       "      <td>24</td>\n",
       "      <td>4</td>\n",
       "      <td>0</td>\n",
       "      <td>1</td>\n",
       "      <td>0</td>\n",
       "      <td>1</td>\n",
       "    </tr>\n",
       "    <tr>\n",
       "      <th>3</th>\n",
       "      <td>2023-04-25</td>\n",
       "      <td>Tomato Puree</td>\n",
       "      <td>10000953</td>\n",
       "      <td>Hommade Tomato Puree(Tetra Pak) 200 g - Rs 27</td>\n",
       "      <td>832</td>\n",
       "      <td>21530.0</td>\n",
       "      <td>22464.0</td>\n",
       "      <td>0.231127</td>\n",
       "      <td>5.549767</td>\n",
       "      <td>0</td>\n",
       "      <td>17</td>\n",
       "      <td>25</td>\n",
       "      <td>4</td>\n",
       "      <td>1</td>\n",
       "      <td>1</td>\n",
       "      <td>0</td>\n",
       "      <td>1</td>\n",
       "    </tr>\n",
       "    <tr>\n",
       "      <th>4</th>\n",
       "      <td>2023-04-26</td>\n",
       "      <td>Tomato Puree</td>\n",
       "      <td>10000953</td>\n",
       "      <td>Hommade Tomato Puree(Tetra Pak) 200 g - Rs 27</td>\n",
       "      <td>927</td>\n",
       "      <td>23978.0</td>\n",
       "      <td>25029.0</td>\n",
       "      <td>0.222459</td>\n",
       "      <td>5.622235</td>\n",
       "      <td>0</td>\n",
       "      <td>17</td>\n",
       "      <td>26</td>\n",
       "      <td>4</td>\n",
       "      <td>2</td>\n",
       "      <td>1</td>\n",
       "      <td>0</td>\n",
       "      <td>1</td>\n",
       "    </tr>\n",
       "  </tbody>\n",
       "</table>\n",
       "</div>"
      ],
      "text/plain": [
       "       date_        p_type   item_id  \\\n",
       "0 2023-04-22  Tomato Puree  10000953   \n",
       "1 2023-04-23  Tomato Puree  10000953   \n",
       "2 2023-04-24  Tomato Puree  10000953   \n",
       "3 2023-04-25  Tomato Puree  10000953   \n",
       "4 2023-04-26  Tomato Puree  10000953   \n",
       "\n",
       "                                       item_name  sales_quantity  sales_value  \\\n",
       "0  Hommade Tomato Puree(Tetra Pak) 200 g - Rs 27            1020      26386.0   \n",
       "1  Hommade Tomato Puree(Tetra Pak) 200 g - Rs 27            1048      27131.0   \n",
       "2  Hommade Tomato Puree(Tetra Pak) 200 g - Rs 27             846      21932.0   \n",
       "3  Hommade Tomato Puree(Tetra Pak) 200 g - Rs 27             832      21530.0   \n",
       "4  Hommade Tomato Puree(Tetra Pak) 200 g - Rs 27             927      23978.0   \n",
       "\n",
       "   sales_value_mrp       ipc     Sales  hours  week  day  month  DayOfTheWeek  \\\n",
       "0          27540.0  0.245811  5.685929      0    16   22      4             5   \n",
       "1          28294.0  0.238974  5.703906      0    16   23      4             6   \n",
       "2          22842.0  0.249967  5.560981      0    17   24      4             0   \n",
       "3          22464.0  0.231127  5.549767      0    17   25      4             1   \n",
       "4          25029.0  0.222459  5.622235      0    17   26      4             2   \n",
       "\n",
       "   WeekDay  cluster  india_outlier_flag  \n",
       "0        0        1                   0  \n",
       "1        0        1                   0  \n",
       "2        1        0                   1  \n",
       "3        1        0                   1  \n",
       "4        1        0                   1  "
      ]
     },
     "execution_count": 42,
     "metadata": {},
     "output_type": "execute_result"
    }
   ],
   "source": [
    "box_x_train.head()"
   ]
  },
  {
   "cell_type": "code",
   "execution_count": 43,
   "id": "a724ffd5-a706-4adb-8026-1d5a008c2f1b",
   "metadata": {},
   "outputs": [],
   "source": [
    "box_x_train.to_csv('india_outlier_flag.csv', index = False)"
   ]
  },
  {
   "cell_type": "markdown",
   "id": "db785822-603e-487e-a876-12b99cc3d2bf",
   "metadata": {},
   "source": [
    "# ------END---------"
   ]
  },
  {
   "cell_type": "code",
   "execution_count": null,
   "id": "3e77c9b3-9db8-4b9c-acee-16abe969b595",
   "metadata": {},
   "outputs": [],
   "source": []
  }
 ],
 "metadata": {
  "kernelspec": {
   "display_name": "Python 3 (ipykernel)",
   "language": "python",
   "name": "python3"
  },
  "language_info": {
   "codemirror_mode": {
    "name": "ipython",
    "version": 3
   },
   "file_extension": ".py",
   "mimetype": "text/x-python",
   "name": "python",
   "nbconvert_exporter": "python",
   "pygments_lexer": "ipython3",
   "version": "3.9.7"
  }
 },
 "nbformat": 4,
 "nbformat_minor": 5
}
